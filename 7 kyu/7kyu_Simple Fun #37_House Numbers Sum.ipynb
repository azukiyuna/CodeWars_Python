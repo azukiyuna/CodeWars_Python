{
 "cells": [
  {
   "cell_type": "markdown",
   "metadata": {},
   "source": [
    "#### [7 kyu] \n",
    "#### [Simple Fun #37: House Numbers Sum](https://www.codewars.com/kata/simple-fun-number-37-house-numbers-sum/train/python)"
   ]
  },
  {
   "cell_type": "markdown",
   "metadata": {},
   "source": [
    "[Instructions]\n",
    "\n",
    "A boy is walking a long way from school to his home.  \n",
    "To make the walk more fun he decides to add up all the numbers of the houses that he passes by during his walk.  \n",
    "Unfortunately, not all of the houses have numbers written on them,  \n",
    "and on top of that the boy is regularly taking turns to change streets,  \n",
    "so the numbers don't appear to him in any particular order.  \n",
    "\n",
    "At some point during the walk the boy encounters a house with number 0 written on it,  \n",
    "which surprises him so much that he stops adding numbers to his total right after seeing that house.  \n",
    "\n",
    "For the given sequence of houses determine the sum that the boy will get.  \n",
    "It is guaranteed that there will always be at least one 0 house on the path.  "
   ]
  },
  {
   "cell_type": "markdown",
   "metadata": {},
   "source": [
    "[Example]  \n",
    "For inputArray = [5, 1, 2, 3, 0, 1, 5, 0, 2], the output should be 11.  \n",
    "\n",
    "The answer was obtained as 5 + 1 + 2 + 3 = 11.  \n",
    "\n",
    "[Input/Output]  \n",
    "\n",
    "[input] integer array inputArray  \n",
    "Constraints: 5 ≤ inputArray.length ≤ 50, 0 ≤ inputArray[i] ≤ 10.  \n",
    "\n",
    "[output] an integer  "
   ]
  },
  {
   "cell_type": "code",
   "execution_count": 1,
   "metadata": {},
   "outputs": [],
   "source": [
    "def house_numbers_sum(inp):\n",
    "    s = 0\n",
    "    for n in inp:\n",
    "        if n == 0: break\n",
    "        else: s += n\n",
    "    return s"
   ]
  },
  {
   "cell_type": "code",
   "execution_count": 2,
   "metadata": {},
   "outputs": [
    {
     "name": "stdout",
     "output_type": "stream",
     "text": [
      "11\n",
      "13\n",
      "10\n",
      "0\n"
     ]
    }
   ],
   "source": [
    "# sample test\n",
    "print(house_numbers_sum([5, 1, 2, 3, 0, 1, 5, 0, 2]))\n",
    "print(house_numbers_sum([4, 2, 1, 6, 0]))\n",
    "print(house_numbers_sum([4, 1, 2, 3, 0, 10, 2]))\n",
    "print(house_numbers_sum([0, 1, 2, 3, 4, 5]))"
   ]
  }
 ],
 "metadata": {
  "kernelspec": {
   "display_name": "Python 3",
   "language": "python",
   "name": "python3"
  },
  "language_info": {
   "codemirror_mode": {
    "name": "ipython",
    "version": 3
   },
   "file_extension": ".py",
   "mimetype": "text/x-python",
   "name": "python",
   "nbconvert_exporter": "python",
   "pygments_lexer": "ipython3",
   "version": "3.7.0"
  }
 },
 "nbformat": 4,
 "nbformat_minor": 2
}
