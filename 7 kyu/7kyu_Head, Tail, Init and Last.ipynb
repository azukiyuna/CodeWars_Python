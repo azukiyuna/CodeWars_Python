{
 "cells": [
  {
   "cell_type": "markdown",
   "metadata": {},
   "source": [
    "#### [7 kyu] \n",
    "#### [Head, Tail, Init and Last](https://www.codewars.com/kata/head-tail-init-and-last/train/python)"
   ]
  },
  {
   "cell_type": "markdown",
   "metadata": {},
   "source": [
    "[Instructions]\n",
    "\n",
    "Haskell has some useful functions for dealing with lists:  "
   ]
  },
  {
   "cell_type": "code",
   "execution_count": null,
   "metadata": {},
   "outputs": [],
   "source": [
    "$ ghci  \n",
    "GHCi, version 7.6.3: http://www.haskell.org/ghc/  :? for help  \n",
    "λ head [1,2,3,4,5]  \n",
    "1  \n",
    "λ tail [1,2,3,4,5]  \n",
    "[2,3,4,5]  \n",
    "λ init [1,2,3,4,5]  \n",
    "[1,2,3,4]  \n",
    "λ last [1,2,3,4,5]  \n",
    "5  "
   ]
  },
  {
   "cell_type": "markdown",
   "metadata": {},
   "source": [
    "Your job is to implement these functions in your given language.  \n",
    "Make sure it doesn't edit the array;  \n",
    "that would cause problems! Here's a cheat sheet:  "
   ]
  },
  {
   "cell_type": "code",
   "execution_count": null,
   "metadata": {},
   "outputs": [],
   "source": [
    "| HEAD | <----------- TAIL ------------> |  \n",
    "[  1,  2,  3,  4,  5,  6,  7,  8,  9,  10]  \n",
    "| <----------- INIT ------------> | LAST |  \n",
    "\n",
    "head [x] = x  \n",
    "tail [x] = []  \n",
    "init [x] = []  \n",
    "last [x] = x  "
   ]
  },
  {
   "cell_type": "markdown",
   "metadata": {},
   "source": [
    "Here's how I expect the functions to be called in your language:  "
   ]
  },
  {
   "cell_type": "code",
   "execution_count": null,
   "metadata": {},
   "outputs": [],
   "source": [
    "head([1,2,3,4,5]) => 1  \n",
    "tail([1,2,3,4,5]) => [2,3,4,5]  "
   ]
  },
  {
   "cell_type": "markdown",
   "metadata": {},
   "source": [
    "Most tests consist of 100 randomly generated arrays, each with four tests, one for each operation.\n",
    "There are 400 tests overall. No empty arrays will be given. Haskell has QuickCheck tests"
   ]
  },
  {
   "cell_type": "markdown",
   "metadata": {},
   "source": [
    "##### [Method 1]"
   ]
  },
  {
   "cell_type": "code",
   "execution_count": 1,
   "metadata": {},
   "outputs": [],
   "source": [
    "def head(st):\n",
    "    return st[0]\n",
    "\n",
    "def tail(st):\n",
    "    return st[1:len(st):]\n",
    "    \n",
    "def init(st):\n",
    "    return st[:len(st)-1:]\n",
    "\n",
    "def last(st):\n",
    "    return st[len(st)-1]"
   ]
  },
  {
   "cell_type": "code",
   "execution_count": 2,
   "metadata": {},
   "outputs": [
    {
     "name": "stdout",
     "output_type": "stream",
     "text": [
      "1\n",
      "[2, 3, 4, 5]\n",
      "[1, 2, 3, 4]\n",
      "5\n",
      "5\n",
      "[]\n",
      "[1, 5, 7]\n",
      "2\n"
     ]
    }
   ],
   "source": [
    "# sample test\n",
    "print(head([1,2,3,4,5]))\n",
    "print(tail([1,2,3,4,5]))\n",
    "print(init([1,2,3,4,5]))\n",
    "print(last([1,2,3,4,5]))\n",
    "\n",
    "print(head([5,1]))\n",
    "print(tail([1]))\n",
    "print(init([1,5,7,9]))\n",
    "print(last([7,2]))"
   ]
  },
  {
   "cell_type": "markdown",
   "metadata": {},
   "source": [
    "##### [Method 2]"
   ]
  },
  {
   "cell_type": "code",
   "execution_count": 3,
   "metadata": {},
   "outputs": [],
   "source": [
    "def head(st):\n",
    "    return st[0]\n",
    "\n",
    "def tail(st):\n",
    "    return st[1:]\n",
    "    \n",
    "def init(st):\n",
    "    return st[:-1]\n",
    "\n",
    "def last(st):\n",
    "    return st[-1]"
   ]
  },
  {
   "cell_type": "code",
   "execution_count": 4,
   "metadata": {},
   "outputs": [
    {
     "name": "stdout",
     "output_type": "stream",
     "text": [
      "1\n",
      "[2, 3, 4, 5]\n",
      "[1, 2, 3, 4]\n",
      "5\n",
      "5\n",
      "[]\n",
      "[1, 5, 7]\n",
      "2\n"
     ]
    }
   ],
   "source": [
    "# sample test\n",
    "print(head([1,2,3,4,5]))\n",
    "print(tail([1,2,3,4,5]))\n",
    "print(init([1,2,3,4,5]))\n",
    "print(last([1,2,3,4,5]))\n",
    "\n",
    "print(head([5,1]))\n",
    "print(tail([1]))\n",
    "print(init([1,5,7,9]))\n",
    "print(last([7,2]))"
   ]
  }
 ],
 "metadata": {
  "kernelspec": {
   "display_name": "Python 3",
   "language": "python",
   "name": "python3"
  },
  "language_info": {
   "codemirror_mode": {
    "name": "ipython",
    "version": 3
   },
   "file_extension": ".py",
   "mimetype": "text/x-python",
   "name": "python",
   "nbconvert_exporter": "python",
   "pygments_lexer": "ipython3",
   "version": "3.7.0"
  }
 },
 "nbformat": 4,
 "nbformat_minor": 2
}
