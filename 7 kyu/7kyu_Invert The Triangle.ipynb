{
 "cells": [
  {
   "cell_type": "markdown",
   "metadata": {},
   "source": [
    "#### [7 kyu] \n",
    "#### [Invert The Triangle](https://www.codewars.com/kata/invert-the-triangle/train/python)"
   ]
  },
  {
   "cell_type": "markdown",
   "metadata": {},
   "source": [
    "[Instructions]\n",
    "\n",
    "Each time the function is called it should invert the passed triangle.  \n",
    "Make upside down the given triangle and invert the chars in the triangle.  \n",
    "\n",
    "if a char = \" \", make it = \"#\"  \n",
    "if a char = \"#\", make it = \" \"  "
   ]
  },
  {
   "cell_type": "code",
   "execution_count": null,
   "metadata": {},
   "outputs": [],
   "source": [
    "    # \n",
    "   ###   \n",
    "  #####  \n",
    " ####### \n",
    "######### // normal\n",
    "\n",
    "\n",
    "         // inverted\n",
    "#       #\n",
    "##     ##\n",
    "###   ###\n",
    "#### ####\n",
    "\n",
    "#### #### \n",
    "###   ###\n",
    "##     ##\n",
    "#       #\n",
    "         // normal\n",
    "\n",
    "\n",
    "######### // inverted\n",
    " ####### \n",
    "  #####  \n",
    "   ###   \n",
    "    #    "
   ]
  },
  {
   "cell_type": "markdown",
   "metadata": {},
   "source": [
    "maketri() is at your disposal.  \n",
    "\n",
    "==============================================="
   ]
  },
  {
   "cell_type": "code",
   "execution_count": 1,
   "metadata": {},
   "outputs": [],
   "source": [
    "def maketri(n):\n",
    "    tri =''\n",
    "    for i in range(n):\n",
    "        w =''\n",
    "        for j in range(2*i+1):\n",
    "            w += '#'\n",
    "        tri += w.center(2*n-1)\n",
    "        if i!= n-1:\n",
    "            tri += '\\n'\n",
    "    return tri"
   ]
  },
  {
   "cell_type": "code",
   "execution_count": 2,
   "metadata": {},
   "outputs": [],
   "source": [
    "def maketri2(n):\n",
    "    tri =''\n",
    "    for i in range(n):\n",
    "        w =''\n",
    "        for j in range(n-i-1):   w += '#'\n",
    "        for k in range(2*i+1):   w += ' '\n",
    "        for l in range(n-i-1):   w += '#'\n",
    "        tri += w.center(2*n-1)\n",
    "        if i!= n-1:\n",
    "            tri += '\\n'\n",
    "    return tri"
   ]
  },
  {
   "cell_type": "code",
   "execution_count": 3,
   "metadata": {},
   "outputs": [],
   "source": [
    "def invert_triangle(t_ori):\n",
    "    t ='\\n'.join(t_ori.splitlines()[::-1])\n",
    "    tri_in =''\n",
    "    for i in t:\n",
    "        if i == ' ':    tri_in += '#'\n",
    "        elif i == '#':  tri_in += ' '\n",
    "        elif i == '\\n': tri_in += '\\n'\n",
    "    return tri_in"
   ]
  },
  {
   "cell_type": "code",
   "execution_count": 4,
   "metadata": {},
   "outputs": [
    {
     "name": "stdout",
     "output_type": "stream",
     "text": [
      "   #   \n",
      "  ###  \n",
      " ##### \n",
      "#######\n",
      "=======================\n",
      "       \n",
      "#     #\n",
      "##   ##\n",
      "### ###\n",
      "=======================\n",
      "    #    \n",
      "   ###   \n",
      "  #####  \n",
      " ####### \n",
      "#########\n",
      "=======================\n",
      "         \n",
      "#       #\n",
      "##     ##\n",
      "###   ###\n",
      "#### ####\n"
     ]
    }
   ],
   "source": [
    "# sample test\n",
    "print(maketri(4))\n",
    "print('=======================')\n",
    "print(invert_triangle(maketri(4)))\n",
    "print('=======================')\n",
    "print(maketri(5))\n",
    "print('=======================')\n",
    "print(invert_triangle(maketri(5)))"
   ]
  },
  {
   "cell_type": "code",
   "execution_count": 5,
   "metadata": {},
   "outputs": [
    {
     "name": "stdout",
     "output_type": "stream",
     "text": [
      "## ##\n",
      "#   #\n",
      "     \n",
      "=======================\n",
      "#####\n",
      " ### \n",
      "  #  \n",
      "=======================\n",
      "#### ####\n",
      "###   ###\n",
      "##     ##\n",
      "#       #\n",
      "         \n",
      "=======================\n",
      "#########\n",
      " ####### \n",
      "  #####  \n",
      "   ###   \n",
      "    #    \n"
     ]
    }
   ],
   "source": [
    "# sample test2\n",
    "print(maketri2(3))\n",
    "print('=======================')\n",
    "print(invert_triangle(maketri2(3)))\n",
    "print('=======================')\n",
    "print(maketri2(5))\n",
    "print('=======================')\n",
    "print(invert_triangle(maketri2(5)))"
   ]
  },
  {
   "cell_type": "markdown",
   "metadata": {},
   "source": [
    "##### [列表生成式 寫法] \n",
    "function_maketri()用列表生成式簡寫"
   ]
  },
  {
   "cell_type": "code",
   "execution_count": 6,
   "metadata": {},
   "outputs": [],
   "source": [
    "def maketri(n):\n",
    "    tri =''\n",
    "    for i in range(n):\n",
    "        w =''.join(['#' for j in range(2*i+1)])\n",
    "        tri += w.center(2*n-1)\n",
    "        if i!= n-1:\n",
    "            tri += '\\n'\n",
    "    return tri"
   ]
  },
  {
   "cell_type": "code",
   "execution_count": 7,
   "metadata": {},
   "outputs": [],
   "source": [
    "def maketri2(n):\n",
    "    tri =''\n",
    "    for i in range(n):\n",
    "        w =''.join(['#' for j in range(n-1-i)] + [' ' for k in range(2*i+1)] + ['#' for l in range(n-1-i)])\n",
    "        tri += w.center(2*n-1)\n",
    "        if i!= n-1:\n",
    "            tri += '\\n'\n",
    "    return tri"
   ]
  },
  {
   "cell_type": "code",
   "execution_count": 8,
   "metadata": {},
   "outputs": [
    {
     "name": "stdout",
     "output_type": "stream",
     "text": [
      "    #    \n",
      "   ###   \n",
      "  #####  \n",
      " ####### \n",
      "#########\n",
      "=======================\n",
      "         \n",
      "#       #\n",
      "##     ##\n",
      "###   ###\n",
      "#### ####\n",
      "=======================\n",
      "#### ####\n",
      "###   ###\n",
      "##     ##\n",
      "#       #\n",
      "         \n",
      "=======================\n",
      "#########\n",
      " ####### \n",
      "  #####  \n",
      "   ###   \n",
      "    #    \n"
     ]
    }
   ],
   "source": [
    "# sample test3\n",
    "print(maketri(5))\n",
    "print('=======================')\n",
    "print(invert_triangle(maketri(5)))\n",
    "print('=======================')\n",
    "print(maketri2(5))\n",
    "print('=======================')\n",
    "print(invert_triangle(maketri2(5)))"
   ]
  },
  {
   "cell_type": "markdown",
   "metadata": {},
   "source": [
    "##### For Original Kata->"
   ]
  },
  {
   "cell_type": "code",
   "execution_count": null,
   "metadata": {},
   "outputs": [],
   "source": [
    "def invert_triangle(t_ori):\n",
    "    t ='\\n'.join(t_ori.splitlines()[::-1])\n",
    "    tri_in ='\\n'\n",
    "    # Not sure How test datas generate in original Kata\n",
    "    # Use tri_in ='\\n' can pass this Kata\n",
    "    for i in t:\n",
    "        if i == ' ':    tri_in += '#'\n",
    "        elif i == '#':  tri_in += ' '\n",
    "        elif i == '\\n': tri_in += '\\n'\n",
    "    return tri_in"
   ]
  }
 ],
 "metadata": {
  "kernelspec": {
   "display_name": "Python 3",
   "language": "python",
   "name": "python3"
  },
  "language_info": {
   "codemirror_mode": {
    "name": "ipython",
    "version": 3
   },
   "file_extension": ".py",
   "mimetype": "text/x-python",
   "name": "python",
   "nbconvert_exporter": "python",
   "pygments_lexer": "ipython3",
   "version": "3.7.4"
  }
 },
 "nbformat": 4,
 "nbformat_minor": 2
}
