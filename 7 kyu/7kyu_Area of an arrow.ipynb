{
 "cells": [
  {
   "cell_type": "markdown",
   "metadata": {},
   "source": [
    "#### [7 kyu] \n",
    "#### [Area of an arrow](https://www.codewars.com/kata/area-of-an-arrow/train/python)"
   ]
  },
  {
   "cell_type": "markdown",
   "metadata": {},
   "source": [
    "[Instructions]\n",
    "\n",
    "Area of an arrow\n",
    "An arrow is formed in a rectangle with sides a and b  \n",
    "by joining the bottom corners to the midpoint of the top edge and the centre of the rectangle.  \n",
    "\n",
    "a and b are integers and > 0  \n",
    "\n",
    "Write a function arrowArea/arrow_area, which returns the area of the arrow, rounded to two decimal places.  "
   ]
  },
  {
   "cell_type": "code",
   "execution_count": 1,
   "metadata": {},
   "outputs": [],
   "source": [
    "def arrow_area(a, b):\n",
    "    area = (a/2)*(b/2)\n",
    "    return area"
   ]
  },
  {
   "cell_type": "code",
   "execution_count": 2,
   "metadata": {},
   "outputs": [
    {
     "name": "stdout",
     "output_type": "stream",
     "text": [
      "2.0\n",
      "10.5\n",
      "156.25\n"
     ]
    }
   ],
   "source": [
    "# sample test\n",
    "print(arrow_area(4,2))\n",
    "print(arrow_area(7,6))\n",
    "print(arrow_area(25,25))"
   ]
  }
 ],
 "metadata": {
  "kernelspec": {
   "display_name": "Python 3",
   "language": "python",
   "name": "python3"
  },
  "language_info": {
   "codemirror_mode": {
    "name": "ipython",
    "version": 3
   },
   "file_extension": ".py",
   "mimetype": "text/x-python",
   "name": "python",
   "nbconvert_exporter": "python",
   "pygments_lexer": "ipython3",
   "version": "3.7.4"
  }
 },
 "nbformat": 4,
 "nbformat_minor": 2
}
