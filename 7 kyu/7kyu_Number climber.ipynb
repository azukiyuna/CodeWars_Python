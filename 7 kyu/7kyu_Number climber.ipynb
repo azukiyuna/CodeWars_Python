{
 "cells": [
  {
   "cell_type": "markdown",
   "metadata": {},
   "source": [
    "#### [7 kyu] \n",
    "#### [Number climber](https://www.codewars.com/kata/number-climber/train/python)"
   ]
  },
  {
   "cell_type": "markdown",
   "metadata": {},
   "source": [
    "[Instructions]\n",
    "\n",
    "For every positive integer N,  \n",
    "there exists a unique sequence starting with 1 and ending with N  \n",
    "and such that every number in the sequence is either the double of the preceeding number or the double plus 1.  \n",
    "\n",
    "For example, given N = 13, the sequence is [1, 3, 6, 13], because . . . :  "
   ]
  },
  {
   "cell_type": "code",
   "execution_count": null,
   "metadata": {},
   "outputs": [],
   "source": [
    " 3 =  2*1 +1\n",
    " 6 =  2*3\n",
    " 13 = 2*6 +1"
   ]
  },
  {
   "cell_type": "markdown",
   "metadata": {},
   "source": [
    "Write a function that returns this sequence given a number N.\n",
    "Try generating the elements of the resulting list in ascending order,\n",
    "i.e., without resorting to a list reversal or prependig the elements to a list."
   ]
  },
  {
   "cell_type": "code",
   "execution_count": 1,
   "metadata": {},
   "outputs": [],
   "source": [
    "def climb(n):\n",
    "    arr = []\n",
    "    b = bin(n)[2:]\n",
    "    for i in range(len(b)):\n",
    "        arr.append(int(b[:(i+1)],2)) \n",
    "    return arr"
   ]
  },
  {
   "cell_type": "code",
   "execution_count": 2,
   "metadata": {},
   "outputs": [
    {
     "name": "stdout",
     "output_type": "stream",
     "text": [
      "[1, 3, 6, 13]\n",
      "[1, 2, 5, 10]\n",
      "[1]\n"
     ]
    }
   ],
   "source": [
    "# sample test\n",
    "print(climb(13))\n",
    "print(climb(10))\n",
    "print(climb(1))"
   ]
  },
  {
   "cell_type": "markdown",
   "metadata": {},
   "source": [
    "=========================================================="
   ]
  },
  {
   "cell_type": "markdown",
   "metadata": {},
   "source": [
    "### [解題思路]"
   ]
  },
  {
   "cell_type": "markdown",
   "metadata": {},
   "source": [
    "1.本題如果直接用遞減排序做運算比較簡單  \n",
    "從 目前數值 取得 下一個數值 的方法:  \n",
    "目前數值 Odd  -> 減1再除以2  \n",
    "目前數值 Even -> 除以2  \n",
    "即可得到list  \n",
    "\n",
    "但題目要求, 在不反轉list的情況下,遞增排序  "
   ]
  },
  {
   "cell_type": "markdown",
   "metadata": {},
   "source": [
    "2.先轉換成2進制, 觀察遞減排序求得的list:  "
   ]
  },
  {
   "cell_type": "code",
   "execution_count": null,
   "metadata": {},
   "outputs": [],
   "source": [
    "      [13, 6, 3, 1]      |      [10, 5, 2, 1]         \n",
    "=========================|=========================|  \n",
    "  Dec |       Bin        |  Dec |         Bin      |  \n",
    "======|==================|=========================|  \n",
    "      |  0   1   2   3   |      |  0   1   2   3   |  \n",
    "======|==================|=========================|  \n",
    "  13  |  1   1   0   1   |  10  |  1   0   1   0   |  \n",
    "   6  |  0   1   1   0   |   5  |  0   1   0   1   |  \n",
    "   3  |  0   0   1   1   |   2  |  0   0   1   0   |  \n",
    "   1  |  0   0   0   1   |   1  |  0   0   0   1   |  "
   ]
  },
  {
   "cell_type": "markdown",
   "metadata": {},
   "source": [
    "題目給定數值N的MSB 經過運算(直接右移 / -1再右移) 會得到初始值1  \n",
    "觀察每次運算過程中   \n",
    "得到的數值 會等於 前一數值右移1位 的結果  "
   ]
  },
  {
   "cell_type": "markdown",
   "metadata": {},
   "source": [
    "因為題目要求, 要遞增排序  \n",
    "所以 把最終數值N的2進制依序取出 第0位 / 第0-1位 / 第0-2位... "
   ]
  },
  {
   "cell_type": "markdown",
   "metadata": {},
   "source": [
    "### [程式註記]"
   ]
  },
  {
   "cell_type": "code",
   "execution_count": null,
   "metadata": {},
   "outputs": [],
   "source": [
    "def climb(n):\n",
    "    arr = []\n",
    "    b = bin(n)[2:] # note_1\n",
    "    for i in range(len(b)):\n",
    "        arr.append(int(b[:(i+1)],2)) # note_2 \n",
    "    return arr"
   ]
  },
  {
   "cell_type": "markdown",
   "metadata": {},
   "source": [
    "#### note_1:"
   ]
  },
  {
   "cell_type": "code",
   "execution_count": null,
   "metadata": {},
   "outputs": [],
   "source": [
    "bin(n) will get a string with prefix '0b' \n",
    "bin(13) = '0b1101'\n",
    "\n",
    "bin(n)[2:] -> to skip '0b' for calculating "
   ]
  },
  {
   "cell_type": "markdown",
   "metadata": {},
   "source": [
    "#### note_2"
   ]
  },
  {
   "cell_type": "code",
   "execution_count": null,
   "metadata": {},
   "outputs": [],
   "source": [
    "int(b[:(i+1)],2) -> transfer Binary to Decimal"
   ]
  }
 ],
 "metadata": {
  "kernelspec": {
   "display_name": "Python 3",
   "language": "python",
   "name": "python3"
  },
  "language_info": {
   "codemirror_mode": {
    "name": "ipython",
    "version": 3
   },
   "file_extension": ".py",
   "mimetype": "text/x-python",
   "name": "python",
   "nbconvert_exporter": "python",
   "pygments_lexer": "ipython3",
   "version": "3.7.4"
  }
 },
 "nbformat": 4,
 "nbformat_minor": 2
}
