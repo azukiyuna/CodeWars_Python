{
 "cells": [
  {
   "cell_type": "markdown",
   "metadata": {},
   "source": [
    "#### [7 kyu] \n",
    "#### [Hamming Distance - Part 1: Binary codes](https://www.codewars.com/kata/hamming-distance-part-1-binary-codes/train/python)"
   ]
  },
  {
   "cell_type": "markdown",
   "metadata": {},
   "source": [
    "[Instructions]\n",
    "\n",
    "The hamming distance of two equal-length strings is the number of positions, in which the two string differ.   \n",
    "In other words, the number of character substitutions required to transform one string into the other.\n",
    "\n",
    "For this first Kata, you will write a function hamming_distance(a, b)  \n",
    "with two equal-length strings containing only 0s and 1s as parameters.  \n",
    "There is no need to test the parameters for validity (but you can, if you want).  \n",
    "The function's output should be the hamming distance of the two strings as an integer.  \n",
    "\n",
    "Example:\n",
    "\n",
    "hamming_distance('100101', '101001') == 2  \n",
    "hamming_distance('1010', '0101') == 4  "
   ]
  },
  {
   "cell_type": "code",
   "execution_count": 1,
   "metadata": {},
   "outputs": [],
   "source": [
    "def hamming_distance(a, b):\n",
    "    count = 0\n",
    "    for i in range(len(a)):\n",
    "        if a[i] != b[i]:\n",
    "            count +=1\n",
    "    return count"
   ]
  },
  {
   "cell_type": "code",
   "execution_count": 2,
   "metadata": {},
   "outputs": [
    {
     "name": "stdout",
     "output_type": "stream",
     "text": [
      "2\n",
      "4\n",
      "9\n"
     ]
    }
   ],
   "source": [
    "# sample test\n",
    "print(hamming_distance('100101', '101001'))\n",
    "print(hamming_distance('1010', '0101'))\n",
    "print(hamming_distance('100101011011010010010', '101100010110010110101'))"
   ]
  }
 ],
 "metadata": {
  "kernelspec": {
   "display_name": "Python 3",
   "language": "python",
   "name": "python3"
  },
  "language_info": {
   "codemirror_mode": {
    "name": "ipython",
    "version": 3
   },
   "file_extension": ".py",
   "mimetype": "text/x-python",
   "name": "python",
   "nbconvert_exporter": "python",
   "pygments_lexer": "ipython3",
   "version": "3.7.0"
  }
 },
 "nbformat": 4,
 "nbformat_minor": 2
}
