{
 "cells": [
  {
   "cell_type": "markdown",
   "metadata": {},
   "source": [
    "#### [7 kyu] \n",
    "#### [Fizz Buzz](https://www.codewars.com/kata/fizz-buzz/train/python)"
   ]
  },
  {
   "cell_type": "markdown",
   "metadata": {},
   "source": [
    "[Instructions]\n",
    "\n",
    "Return an array containing the numbers from 1 to N,  \n",
    "where N is the parametered value. N will never be less than 1  \n",
    "(in C#, N might be less then 1).  \n",
    "\n",
    "C# ONLY: If N is smaller then or equal to 0,  \n",
    "throw an ArgumentOutOfRangeException!  \n",
    "Replace certain values however if any of the following conditions are met:  \n",
    "\n",
    "If the value is a multiple of 3: use the value 'Fizz' instead  \n",
    "If the value is a multiple of 5: use the value 'Buzz' instead  \n",
    "If the value is a multiple of 3 & 5: use the value 'FizzBuzz' instead  "
   ]
  },
  {
   "cell_type": "code",
   "execution_count": 1,
   "metadata": {},
   "outputs": [],
   "source": [
    "def fizzbuzz(n):\n",
    "    st = []\n",
    "    for i in range(1,n+1):\n",
    "        if (i % 3 == 0) & (i % 5 ==0):\n",
    "            st.append('FizzBuzz')\n",
    "        elif i % 3 == 0:\n",
    "            st.append('Fizz')\n",
    "        elif i % 5 == 0:\n",
    "            st.append('Buzz')\n",
    "        else:\n",
    "            st.append(i)\n",
    "    return st"
   ]
  },
  {
   "cell_type": "code",
   "execution_count": 2,
   "metadata": {},
   "outputs": [
    {
     "name": "stdout",
     "output_type": "stream",
     "text": [
      "[1, 2, 'Fizz', 4, 'Buzz', 'Fizz', 7, 8, 'Fizz', 'Buzz']\n",
      "[1, 2, 'Fizz', 4, 'Buzz', 'Fizz', 7, 8, 'Fizz', 'Buzz', 11, 'Fizz', 13, 14, 'FizzBuzz']\n"
     ]
    }
   ],
   "source": [
    "# sample test\n",
    "print(fizzbuzz(10))\n",
    "print(fizzbuzz(15))\n",
    "# expected = [1,2,'Fizz',4,'Buzz','Fizz',7,8,'Fizz','Buzz']"
   ]
  }
 ],
 "metadata": {
  "kernelspec": {
   "display_name": "Python 3",
   "language": "python",
   "name": "python3"
  },
  "language_info": {
   "codemirror_mode": {
    "name": "ipython",
    "version": 3
   },
   "file_extension": ".py",
   "mimetype": "text/x-python",
   "name": "python",
   "nbconvert_exporter": "python",
   "pygments_lexer": "ipython3",
   "version": "3.7.0"
  }
 },
 "nbformat": 4,
 "nbformat_minor": 2
}
