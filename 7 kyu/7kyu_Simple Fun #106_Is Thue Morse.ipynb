{
 "cells": [
  {
   "cell_type": "markdown",
   "metadata": {},
   "source": [
    "#### [7 kyu] \n",
    "#### [Simple Fun #106: Is Thue Morse?](https://www.codewars.com/kata/simple-fun-number-106-is-thue-morse/train/python)"
   ]
  },
  {
   "cell_type": "markdown",
   "metadata": {},
   "source": [
    "[Instructions]\n",
    "\n",
    "Given a sequence of 0s and 1s, determine if it is a prefix of Thue-Morse sequence.\n",
    "\n",
    "The infinite Thue-Morse sequence is obtained by first taking a sequence containing a single 0  \n",
    "and then repeatedly concatenating the current sequence with its binary complement.  \n",
    "\n",
    "A binary complement of a sequence X is a sequence Y of the same length  \n",
    "such that the sum of elements X_i and Y_i on the same positions is equal to 1 for each i.  \n",
    "\n",
    "Thus the first few iterations to obtain Thue-Morse sequence are:  \n",
    "\n",
    "0  \n",
    "0 1  \n",
    "0 1 1 0  \n",
    "0 1 1 0 1 0 0 1  "
   ]
  },
  {
   "cell_type": "markdown",
   "metadata": {},
   "source": [
    "[Examples]\n",
    "For seq=[0, 1, 1, 0, 1], the result should be true.  \n",
    "\n",
    "For seq=[0, 1, 0, 0], the result should be false.  \n",
    "\n",
    "[Inputs & Output]\n",
    "[input] integer array seq\n",
    "\n",
    "An non-empty array.\n",
    "\n",
    "Constraints:\n",
    "\n",
    "1 <= seq.length <= 1000\n",
    "\n",
    "seq[i] ∈ [0,1]\n",
    "\n",
    "[output] a boolean value\n",
    "\n",
    "true if it is a prefix of Thue-Morse sequence. false otherwise.  \n",
    "\n",
    "================================================================="
   ]
  },
  {
   "cell_type": "markdown",
   "metadata": {},
   "source": [
    "#### [Reference Kata - [6 kyu] Thue-Morse Sequence](https://www.codewars.com/kata/591aa1752afcb02fa300002a)\n",
    "Detail & Solution->"
   ]
  },
  {
   "cell_type": "code",
   "execution_count": 1,
   "metadata": {},
   "outputs": [],
   "source": [
    "# Reference Kata - [6 kyu] Thue-Morse Sequence\n",
    "\n",
    "def thueMorse(number):\n",
    "    T = []\n",
    "    for n in range(number):\n",
    "        T.append(bin(n).count('1') % 2)\n",
    "    return  T"
   ]
  },
  {
   "cell_type": "code",
   "execution_count": 2,
   "metadata": {},
   "outputs": [],
   "source": [
    "def is_thue_morse(seq):\n",
    "    T_correct = thueMorse(len(seq))\n",
    "    \n",
    "    for i in range(len(seq)):\n",
    "        if seq[i] != T_correct[i]:\n",
    "            result = False\n",
    "            break\n",
    "        else:\n",
    "            result = True\n",
    "    return result"
   ]
  },
  {
   "cell_type": "code",
   "execution_count": 3,
   "metadata": {},
   "outputs": [
    {
     "name": "stdout",
     "output_type": "stream",
     "text": [
      "True\n",
      "True\n",
      "False\n",
      "False\n"
     ]
    }
   ],
   "source": [
    "# sample test\n",
    "print(is_thue_morse([0, 1, 1, 0, 1]))\n",
    "print(is_thue_morse([0]))\n",
    "print(is_thue_morse([1]))\n",
    "print(is_thue_morse([0, 1, 0, 0]))"
   ]
  }
 ],
 "metadata": {
  "kernelspec": {
   "display_name": "Python 3",
   "language": "python",
   "name": "python3"
  },
  "language_info": {
   "codemirror_mode": {
    "name": "ipython",
    "version": 3
   },
   "file_extension": ".py",
   "mimetype": "text/x-python",
   "name": "python",
   "nbconvert_exporter": "python",
   "pygments_lexer": "ipython3",
   "version": "3.7.0"
  }
 },
 "nbformat": 4,
 "nbformat_minor": 2
}
