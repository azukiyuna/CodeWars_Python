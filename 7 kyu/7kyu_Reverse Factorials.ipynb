{
 "cells": [
  {
   "cell_type": "markdown",
   "metadata": {},
   "source": [
    "#### [7 kyu] \n",
    "#### [Reverse Factorials](https://www.codewars.com/kata/factorial/train/python)"
   ]
  },
  {
   "cell_type": "markdown",
   "metadata": {},
   "source": [
    "[Instructions]\n",
    "\n",
    "I'm sure you're familiar with factorials –  \n",
    "that is, the product of an integer and all the integers below it.  \n",
    "\n",
    "For example, 5! = 120, as 5 * 4 * 3 * 2 * 1 = 120  \n",
    "\n",
    "Your challenge is to create a function that takes any number and returns the number that it is a factorial of.  \n",
    "\n",
    "So, if your function receives 120, it should return \"5!\" (as a string).  \n",
    "\n",
    "Of course, not every number is a factorial of another.  \n",
    "In this case, your function would return \"None\" (as a string).  \n",
    "\n",
    "[Examples]\n",
    "120 will return \"5!\"  \n",
    "24 will return \"4!\"  \n",
    "150 will return \"None\"  "
   ]
  },
  {
   "cell_type": "markdown",
   "metadata": {},
   "source": [
    "##### [Method 1]"
   ]
  },
  {
   "cell_type": "code",
   "execution_count": 1,
   "metadata": {},
   "outputs": [],
   "source": [
    "def reverse_factorial(num):\n",
    "    f = 1\n",
    "    for n in range(1,num+1):\n",
    "        f*= n\n",
    "        if f == num:  return \"%d!\"%n\n",
    "        elif f > num: return \"None\""
   ]
  },
  {
   "cell_type": "code",
   "execution_count": 2,
   "metadata": {},
   "outputs": [
    {
     "name": "stdout",
     "output_type": "stream",
     "text": [
      "5!\n",
      "4!\n",
      "None\n",
      "1!\n",
      "2!\n"
     ]
    }
   ],
   "source": [
    "# sample test\n",
    "print(reverse_factorial(120))\n",
    "print(reverse_factorial(24))\n",
    "print(reverse_factorial(150))\n",
    "print(reverse_factorial(1))\n",
    "print(reverse_factorial(2))"
   ]
  },
  {
   "cell_type": "markdown",
   "metadata": {},
   "source": [
    "##### [Method 2]"
   ]
  },
  {
   "cell_type": "code",
   "execution_count": 3,
   "metadata": {},
   "outputs": [],
   "source": [
    "def reverse_factorial(num):\n",
    "    f = n = 1\n",
    "    while f < num:\n",
    "        n+= 1\n",
    "        f*= n\n",
    "    if f == num:  return \"%d!\"%n\n",
    "    elif f > num: return \"None\""
   ]
  },
  {
   "cell_type": "code",
   "execution_count": 4,
   "metadata": {},
   "outputs": [
    {
     "name": "stdout",
     "output_type": "stream",
     "text": [
      "5!\n",
      "4!\n",
      "None\n",
      "1!\n",
      "2!\n"
     ]
    }
   ],
   "source": [
    "# sample test\n",
    "print(reverse_factorial(120))\n",
    "print(reverse_factorial(24))\n",
    "print(reverse_factorial(150))\n",
    "print(reverse_factorial(1))\n",
    "print(reverse_factorial(2))"
   ]
  }
 ],
 "metadata": {
  "kernelspec": {
   "display_name": "Python 3",
   "language": "python",
   "name": "python3"
  },
  "language_info": {
   "codemirror_mode": {
    "name": "ipython",
    "version": 3
   },
   "file_extension": ".py",
   "mimetype": "text/x-python",
   "name": "python",
   "nbconvert_exporter": "python",
   "pygments_lexer": "ipython3",
   "version": "3.7.4"
  }
 },
 "nbformat": 4,
 "nbformat_minor": 2
}
