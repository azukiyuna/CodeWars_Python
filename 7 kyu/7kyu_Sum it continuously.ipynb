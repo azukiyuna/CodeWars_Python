{
 "cells": [
  {
   "cell_type": "markdown",
   "metadata": {},
   "source": [
    "#### [7 kyu] \n",
    "#### [Sum it continuously](https://www.codewars.com/kata/sum-it-continuously/train/python)"
   ]
  },
  {
   "cell_type": "markdown",
   "metadata": {},
   "source": [
    "[Instructions]\n",
    "\n",
    "Make a function \"add\" that will be able to sum elements of list continuously and return a new list of sums.  \n",
    "In python there can be cases where input is not a list,\n",
    "or there are other objects in it instead of integers like string characters or float numbers,  \n",
    "in these cases return 'Invalid input'  \n",
    "\n",
    "For example:  \n",
    "\n",
    "add([1,2,3,4,5]) == [1, 3, 6, 10, 15] , because it's calculated like this :  \n",
    "[1, 1 + 2, 1 + 2 + 3, 1 + 2 + 3 + 4, 1 + 2 + 3 + 4 + 5]  \n",
    "\n",
    "add([1,'a',2,'b',3,'c']) == 'Invalid input'  \n",
    "\n",
    "add('All string') == 'Invalid input'  \n",
    "\n",
    "add((1,2,3,4)) == 'Invalid input'  "
   ]
  },
  {
   "cell_type": "code",
   "execution_count": 1,
   "metadata": {},
   "outputs": [],
   "source": [
    "def add(l):\n",
    "    s = 0\n",
    "    sum_all = []\n",
    "    if type(l) == list:\n",
    "        for i in l:\n",
    "            if type(i) == int:\n",
    "                s += i\n",
    "                sum_all.append(s)\n",
    "            else:\n",
    "                return 'Invalid input'\n",
    "        return sum_all\n",
    "    else:\n",
    "        return 'Invalid input'"
   ]
  },
  {
   "cell_type": "code",
   "execution_count": 2,
   "metadata": {},
   "outputs": [
    {
     "name": "stdout",
     "output_type": "stream",
     "text": [
      "[1, 3, 6, 10, 15]\n",
      "[20, 41, 63, 86, 110, 135]\n",
      "[2, 6, 12, 20, 30]\n",
      "Invalid input\n",
      "[1, 5, 14, 30, 55, 91]\n",
      "Invalid input\n",
      "Invalid input\n",
      "[1, 9, 36, 100, 225]\n",
      "Invalid input\n"
     ]
    }
   ],
   "source": [
    "# sample test\n",
    "print(add([1,2,3,4,5]))\n",
    "print(add([20,21,22,23,24,25]))\n",
    "print(add([2,4,6,8,10]))\n",
    "print(add([6,7,8,9,10,'a','z']))\n",
    "print(add([1,4,9,16,25,36]))\n",
    "print(add('Invalid input'))\n",
    "print(add([1,2,'a','6',3,6,'s']))\n",
    "print(add([1,8,27,64,125]))\n",
    "print(add((1,2,3,4)))"
   ]
  }
 ],
 "metadata": {
  "kernelspec": {
   "display_name": "Python 3",
   "language": "python",
   "name": "python3"
  },
  "language_info": {
   "codemirror_mode": {
    "name": "ipython",
    "version": 3
   },
   "file_extension": ".py",
   "mimetype": "text/x-python",
   "name": "python",
   "nbconvert_exporter": "python",
   "pygments_lexer": "ipython3",
   "version": "3.7.0"
  }
 },
 "nbformat": 4,
 "nbformat_minor": 2
}
