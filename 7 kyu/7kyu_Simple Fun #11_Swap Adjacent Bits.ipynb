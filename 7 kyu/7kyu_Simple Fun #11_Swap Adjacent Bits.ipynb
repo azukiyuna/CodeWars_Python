{
 "cells": [
  {
   "cell_type": "markdown",
   "metadata": {},
   "source": [
    "#### [7 kyu] \n",
    "#### [Simple Fun #11: Swap Adjacent Bits](https://www.codewars.com/kata/simple-fun-number-11-swap-adjacent-bits/train/python)"
   ]
  },
  {
   "cell_type": "markdown",
   "metadata": {},
   "source": [
    "[Instructions]\n",
    "\n",
    "You're given an arbitrary 32-bit integer n.  \n",
    "Swap each pair of adjacent bits in its binary representation and return the result as a decimal number.  \n",
    "\n",
    "Example  \n",
    "For n = 13, the output should be 14  \n",
    "\n",
    "13(10) = 1101(2) ~> 1110(2) = 14(10)  \n",
    "\n",
    "For n = 74, the output should be 133  \n",
    "\n",
    "74(10) = 01001010(2) ~> 10000101(2) = 133(10)  \n",
    "\n",
    "\n",
    "@ Note\n",
    "\n",
    "the preceding zero written in front of the initial number:\n",
    "since both numbers are 32-bit integers, they have 32 bits in their binary representation.  \n",
    "The preceding zeros in other cases don't matter, so they are omitted.  \n",
    "Here, however, it does make a difference.  \n",
    "\n",
    "Input/Output\n",
    "[input] integer n  \n",
    "\n",
    "0 ≤ n < 2^30.  \n",
    "\n",
    "[output] an integer  "
   ]
  },
  {
   "cell_type": "markdown",
   "metadata": {},
   "source": [
    "#### [Method 1]"
   ]
  },
  {
   "cell_type": "code",
   "execution_count": 1,
   "metadata": {},
   "outputs": [],
   "source": [
    "def swap_adjacent_bits(n):\n",
    "    n_swap = ''\n",
    "    n_ori = bin(n)[2:].zfill(32)\n",
    "    for i in range(0,len(n_ori),2):\n",
    "        n_swap += (n_ori[i+1] + n_ori[i])\n",
    "    return int(('0b'+n_swap) , 2)"
   ]
  },
  {
   "cell_type": "code",
   "execution_count": 2,
   "metadata": {},
   "outputs": [
    {
     "name": "stdout",
     "output_type": "stream",
     "text": [
      "14\n",
      "133\n",
      "1073741823\n",
      "0\n",
      "2\n",
      "166680\n"
     ]
    }
   ],
   "source": [
    "# sample test\n",
    "print(swap_adjacent_bits(13)) # 14\n",
    "print(swap_adjacent_bits(74)) # 133\n",
    "print(swap_adjacent_bits(1073741823)) # 1073741823\n",
    "print(swap_adjacent_bits(0)) # 0\n",
    "print(swap_adjacent_bits(1)) # 2\n",
    "print(swap_adjacent_bits(83748)) # 166680"
   ]
  },
  {
   "cell_type": "markdown",
   "metadata": {},
   "source": [
    "#### [Method 2]"
   ]
  },
  {
   "cell_type": "code",
   "execution_count": 1,
   "metadata": {},
   "outputs": [],
   "source": [
    "def swap_adjacent_bits(n):\n",
    "    n_ori = bin(n)[2:].zfill(32)\n",
    "    n_swap = ''.join(n_ori[i+1] + n_ori[i] for i in range(0,len(n_ori),2))\n",
    "    return int(('0b'+n_swap) , 2)"
   ]
  },
  {
   "cell_type": "code",
   "execution_count": 2,
   "metadata": {},
   "outputs": [
    {
     "name": "stdout",
     "output_type": "stream",
     "text": [
      "14\n",
      "133\n",
      "1073741823\n",
      "0\n",
      "2\n",
      "166680\n"
     ]
    }
   ],
   "source": [
    "# sample test\n",
    "print(swap_adjacent_bits(13)) # 14\n",
    "print(swap_adjacent_bits(74)) # 133\n",
    "print(swap_adjacent_bits(1073741823)) # 1073741823\n",
    "print(swap_adjacent_bits(0)) # 0\n",
    "print(swap_adjacent_bits(1)) # 2\n",
    "print(swap_adjacent_bits(83748)) # 166680"
   ]
  }
 ],
 "metadata": {
  "kernelspec": {
   "display_name": "Python 3",
   "language": "python",
   "name": "python3"
  },
  "language_info": {
   "codemirror_mode": {
    "name": "ipython",
    "version": 3
   },
   "file_extension": ".py",
   "mimetype": "text/x-python",
   "name": "python",
   "nbconvert_exporter": "python",
   "pygments_lexer": "ipython3",
   "version": "3.7.0"
  }
 },
 "nbformat": 4,
 "nbformat_minor": 2
}
