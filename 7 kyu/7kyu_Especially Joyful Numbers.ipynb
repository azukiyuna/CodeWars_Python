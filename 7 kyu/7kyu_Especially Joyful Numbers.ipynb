{
 "cells": [
  {
   "cell_type": "markdown",
   "metadata": {},
   "source": [
    "#### [7 kyu] \n",
    "#### [Especially Joyful Numbers](https://www.codewars.com/kata/especially-joyful-numbers/train/python)"
   ]
  },
  {
   "cell_type": "markdown",
   "metadata": {},
   "source": [
    "[Instructions]\n",
    "\n",
    "Positive integers that are divisible exactly by the sum of their digits are called Harshad numbers.  \n",
    "The first few Harshad numbers are: 1, 2, 3, 4, 5, 6, 7, 8, 9, 10, 12, 18, ...  \n",
    "\n",
    "We are interested in Harshad numbers where the product of its digit sum s  \n",
    "and s with the digits reversed, gives the original number n.  \n",
    "\n",
    "For example consider number 1729:  \n",
    "its digit sum, s = 1 + 7 + 2 + 9 = 19  \n",
    "reversing s = 91  \n",
    "and 19 * 91 = 1729 --> the number that we started with.  \n",
    "\n",
    "Complete the function which tests if a positive integer n is Harshad number,  \n",
    "and returns True if the product of its digit sum and its digit sum reversed equals n;  \n",
    "otherwise return False.  "
   ]
  },
  {
   "cell_type": "markdown",
   "metadata": {},
   "source": [
    "#### [Method 1] "
   ]
  },
  {
   "cell_type": "code",
   "execution_count": 1,
   "metadata": {},
   "outputs": [],
   "source": [
    "def number_joy(n):\n",
    "    s = 0\n",
    "    for i in range(len(str(n))):\n",
    "        s += int(str(n)[i])\n",
    "    s_r = int(str(s)[::-1])\n",
    "    return (n == s * s_r)"
   ]
  },
  {
   "cell_type": "code",
   "execution_count": 2,
   "metadata": {},
   "outputs": [
    {
     "name": "stdout",
     "output_type": "stream",
     "text": [
      "False\n",
      "False\n",
      "True\n",
      "False\n"
     ]
    }
   ],
   "source": [
    "# sample test\n",
    "print(number_joy(1997)) #'Not a Harshad number'\n",
    "print(number_joy(1998)) #'Harshad but digit sum=27, and 27x72 does not equal 1998'\n",
    "print(number_joy(1729)) #'Harshad and digit sum=19, and 19x91 = 1729'\n",
    "print(number_joy(18)) #'Harshad but digit sum=9, and 9x9 does not equal 18'"
   ]
  },
  {
   "cell_type": "markdown",
   "metadata": {},
   "source": [
    "#### [Method 2] "
   ]
  },
  {
   "cell_type": "code",
   "execution_count": 3,
   "metadata": {},
   "outputs": [],
   "source": [
    "def number_joy(n):\n",
    "    num = n\n",
    "    s = 0\n",
    "    while (num > 0):\n",
    "        rem = num % 10\n",
    "        s = s + rem\n",
    "        num = num // 10\n",
    "    if s < 10:\n",
    "        s_r = s\n",
    "    else:\n",
    "        s_r = (s % 10)*10 + (s // 10)\n",
    "    return (n == s * s_r)"
   ]
  },
  {
   "cell_type": "code",
   "execution_count": 4,
   "metadata": {},
   "outputs": [
    {
     "name": "stdout",
     "output_type": "stream",
     "text": [
      "False\n",
      "False\n",
      "True\n",
      "False\n"
     ]
    }
   ],
   "source": [
    "# sample test\n",
    "print(number_joy(1997)) #'Not a Harshad number'\n",
    "print(number_joy(1998)) #'Harshad but digit sum=27, and 27x72 does not equal 1998'\n",
    "print(number_joy(1729)) #'Harshad and digit sum=19, and 19x91 = 1729'\n",
    "print(number_joy(18)) #'Harshad but digit sum=9, and 9x9 does not equal 18'"
   ]
  }
 ],
 "metadata": {
  "kernelspec": {
   "display_name": "Python 3",
   "language": "python",
   "name": "python3"
  },
  "language_info": {
   "codemirror_mode": {
    "name": "ipython",
    "version": 3
   },
   "file_extension": ".py",
   "mimetype": "text/x-python",
   "name": "python",
   "nbconvert_exporter": "python",
   "pygments_lexer": "ipython3",
   "version": "3.7.0"
  }
 },
 "nbformat": 4,
 "nbformat_minor": 2
}
