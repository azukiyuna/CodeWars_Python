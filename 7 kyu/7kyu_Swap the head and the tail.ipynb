{
 "cells": [
  {
   "cell_type": "markdown",
   "metadata": {},
   "source": [
    "#### [7 kyu] \n",
    "#### [Swap the head and the tail](https://www.codewars.com/kata/5a34f087c5e28462d9000082)"
   ]
  },
  {
   "cell_type": "markdown",
   "metadata": {},
   "source": [
    "[Instructions]\n",
    "\n",
    "You need to swap the head and the tail of the specified array:  \n",
    "the head (the first half) of array moves to the end, the tail (the second half) moves to the start.  \n",
    "The middle element (if it exists) leaves on the same position.  \n",
    "\n",
    "Return new array.  \n",
    "\n",
    "For example:  \n",
    "\n",
    "    [ 1, 2, 3, 4, 5 ]   =>  [ 4, 5, 3, 1, 2 ]  \n",
    "     \\----/   \\----/           \n",
    "      head     tail   \n",
    "\n",
    "    [ -1, 2 ]  => [ 2, -1 ]   \n",
    "    [ 1, 2, -3, 4, 5, 6, -7, 8 ]   =>  [ 5, 6, -7, 8, 1, 2, -3, 4 ]  "
   ]
  },
  {
   "cell_type": "markdown",
   "metadata": {},
   "source": [
    "##### [Method 1]"
   ]
  },
  {
   "cell_type": "code",
   "execution_count": 1,
   "metadata": {},
   "outputs": [],
   "source": [
    "def swap_head_tail(arr):\n",
    "    head = tail = arr_f =[]\n",
    "    if len(arr)%2 == 0:\n",
    "        mid = int(len(arr)/2)\n",
    "        head = [arr[i] for i in range(0, mid)]\n",
    "        tail = [arr[i] for i in range(mid, len(arr))]\n",
    "        arr_f = tail + head\n",
    "    else:\n",
    "        mid = int((len(arr)-1)/2)\n",
    "        head = [arr[i] for i in range(0, mid)]\n",
    "        tail = [arr[i] for i in range(mid+1, len(arr))]\n",
    "        arr_f = tail + [arr[mid]] + head\n",
    "    return arr_f"
   ]
  },
  {
   "cell_type": "code",
   "execution_count": 2,
   "metadata": {},
   "outputs": [
    {
     "name": "stdout",
     "output_type": "stream",
     "text": [
      "[4, 5, 3, 1, 2]\n",
      "[2, -1]\n",
      "[5, 6, -7, 8, 1, 2, -3, 4]\n"
     ]
    }
   ],
   "source": [
    "# sample test\n",
    "print(swap_head_tail([ 1, 2, 3, 4, 5 ] ))\n",
    "print(swap_head_tail([ -1, 2 ]))\n",
    "print(swap_head_tail([ 1, 2, -3, 4, 5, 6, -7, 8 ]))"
   ]
  },
  {
   "cell_type": "markdown",
   "metadata": {},
   "source": [
    "##### [Method 2]"
   ]
  },
  {
   "cell_type": "code",
   "execution_count": 3,
   "metadata": {},
   "outputs": [],
   "source": [
    "def swap_head_tail(arr):\n",
    "    m = len(arr)//2\n",
    "    n = (len(arr)+1)//2\n",
    "    return arr[n:]+arr[m:n]+arr[:m]"
   ]
  },
  {
   "cell_type": "code",
   "execution_count": 4,
   "metadata": {},
   "outputs": [
    {
     "name": "stdout",
     "output_type": "stream",
     "text": [
      "[4, 5, 3, 1, 2]\n",
      "[2, -1]\n",
      "[5, 6, -7, 8, 1, 2, -3, 4]\n"
     ]
    }
   ],
   "source": [
    "# sample test\n",
    "print(swap_head_tail([ 1, 2, 3, 4, 5 ] ))\n",
    "print(swap_head_tail([ -1, 2 ]))\n",
    "print(swap_head_tail([ 1, 2, -3, 4, 5, 6, -7, 8 ]))"
   ]
  }
 ],
 "metadata": {
  "kernelspec": {
   "display_name": "Python 3",
   "language": "python",
   "name": "python3"
  },
  "language_info": {
   "codemirror_mode": {
    "name": "ipython",
    "version": 3
   },
   "file_extension": ".py",
   "mimetype": "text/x-python",
   "name": "python",
   "nbconvert_exporter": "python",
   "pygments_lexer": "ipython3",
   "version": "3.7.0"
  }
 },
 "nbformat": 4,
 "nbformat_minor": 2
}
