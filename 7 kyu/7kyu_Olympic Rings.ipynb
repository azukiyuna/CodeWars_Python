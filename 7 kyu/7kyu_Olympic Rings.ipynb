{
 "cells": [
  {
   "cell_type": "markdown",
   "metadata": {},
   "source": [
    "#### [7 kyu] \n",
    "#### [Olympic Rings](https://www.codewars.com/kata/olympic-rings/train/python)"
   ]
  },
  {
   "cell_type": "markdown",
   "metadata": {},
   "source": [
    "[Instructions]\n",
    "\n",
    "Given a string of random letters, you need to examine each.  \n",
    "Some letters naturally have 'rings' in them.  \n",
    "'O' is an obvious example,  but 'b', 'p', 'e', 'A', etc are all just as applicable.'B' even has two!!  \n",
    "Please note for this kata you can count lower case 'g' as only one ring.  \n",
    "\n",
    "Your job is to count the 'rings' in each letter and divide the total number by 2.  \n",
    "Round the answer down. Once you have your final score:  \n",
    "\n",
    "if score is 1 or less, return 'Not even a medal!';  \n",
    "if score is 2, return 'Bronze!';  \n",
    "if score is 3, return 'Silver!';  \n",
    "if score is more than 3, return 'Gold!';  \n",
    "\n",
    "Dots over i's and any other letters don't count as rings.  "
   ]
  },
  {
   "cell_type": "code",
   "execution_count": 1,
   "metadata": {},
   "outputs": [],
   "source": [
    "def olympic_ring(string):\n",
    "    ring = ['A','a','b','D','d','e','g','O','o','P','p','Q','q','R']\n",
    "    count = 0\n",
    "    for i in string:\n",
    "        if i == 'B':\n",
    "            count +=2\n",
    "        else:\n",
    "            for j in ring:\n",
    "                if i == j:\n",
    "                    count +=1\n",
    "    if (count//2 <=1):\n",
    "        result ='Not even a medal!'\n",
    "    elif (count//2 ==2):\n",
    "        result ='Bronze!'\n",
    "    elif (count//2 ==3):\n",
    "        result ='Silver!'\n",
    "    elif (count//2 > 3):\n",
    "        result ='Gold!'\n",
    "    return result"
   ]
  },
  {
   "cell_type": "code",
   "execution_count": 2,
   "metadata": {},
   "outputs": [
    {
     "name": "stdout",
     "output_type": "stream",
     "text": [
      "Bronze!\n",
      "Bronze!\n",
      "Not even a medal!\n",
      "Silver!\n",
      "Gold!\n",
      "Silver!\n",
      "Not even a medal!\n"
     ]
    }
   ],
   "source": [
    "# sample test\n",
    "print(olympic_ring('wHjMudLwtoPGocnJ'))\n",
    "print(olympic_ring('eCEHWEPwwnvzMicyaRjk'))\n",
    "print(olympic_ring('JKniLfLW'))\n",
    "print(olympic_ring('EWlZlDFsEIBufsalqof'))\n",
    "print(olympic_ring('IMBAWejlGRTDWetPS'))\n",
    "print(olympic_ring('cCueahKkGdrrcEgnUnRvCriSAoGf'))\n",
    "print(olympic_ring('YerdncOsyCW'))"
   ]
  }
 ],
 "metadata": {
  "kernelspec": {
   "display_name": "Python 3",
   "language": "python",
   "name": "python3"
  },
  "language_info": {
   "codemirror_mode": {
    "name": "ipython",
    "version": 3
   },
   "file_extension": ".py",
   "mimetype": "text/x-python",
   "name": "python",
   "nbconvert_exporter": "python",
   "pygments_lexer": "ipython3",
   "version": "3.7.0"
  }
 },
 "nbformat": 4,
 "nbformat_minor": 2
}
