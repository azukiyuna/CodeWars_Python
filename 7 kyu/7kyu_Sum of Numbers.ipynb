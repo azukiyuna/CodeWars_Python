{
 "cells": [
  {
   "cell_type": "markdown",
   "metadata": {},
   "source": [
    "#### [7 kyu] \n",
    "#### [Beginner Series #3 Sum of Numbers](https://www.codewars.com/kata/beginner-series-number-3-sum-of-numbers/train/python)"
   ]
  },
  {
   "cell_type": "markdown",
   "metadata": {},
   "source": [
    "[Instructions]\n",
    "\n",
    "Given two integers a and b, which can be positive or negative,  \n",
    "find the sum of all the numbers between including them too and return it.  \n",
    "If the two numbers are equal return a or b.  \n",
    "\n",
    "Note: a and b are not ordered!\n",
    "\n",
    "Examples:\n",
    "get_sum(1, 0) == 1   // 1 + 0 = 1  \n",
    "get_sum(1, 2) == 3   // 1 + 2 = 3  \n",
    "get_sum(0, 1) == 1   // 0 + 1 = 1  \n",
    "get_sum(1, 1) == 1   // 1 Since both are same  \n",
    "get_sum(-1, 0) == -1 // -1 + 0 = -1  \n",
    "get_sum(-1, 2) == 2  // -1 + 0 + 1 + 2 = 2  "
   ]
  },
  {
   "cell_type": "code",
   "execution_count": 1,
   "metadata": {},
   "outputs": [],
   "source": [
    "def get_sum(a,b):\n",
    "    if a == b:\n",
    "        result = a\n",
    "    else:\n",
    "        result = (a + b)*(abs(a - b)+1)//2\n",
    "    return result"
   ]
  },
  {
   "cell_type": "code",
   "execution_count": 2,
   "metadata": {},
   "outputs": [
    {
     "name": "stdout",
     "output_type": "stream",
     "text": [
      "1\n",
      "-1\n",
      "2\n"
     ]
    }
   ],
   "source": [
    "# sample test\n",
    "print(get_sum(0,1))\n",
    "print(get_sum(0,-1))\n",
    "print(get_sum(-1,2))"
   ]
  }
 ],
 "metadata": {
  "kernelspec": {
   "display_name": "Python 3",
   "language": "python",
   "name": "python3"
  },
  "language_info": {
   "codemirror_mode": {
    "name": "ipython",
    "version": 3
   },
   "file_extension": ".py",
   "mimetype": "text/x-python",
   "name": "python",
   "nbconvert_exporter": "python",
   "pygments_lexer": "ipython3",
   "version": "3.7.0"
  }
 },
 "nbformat": 4,
 "nbformat_minor": 2
}
