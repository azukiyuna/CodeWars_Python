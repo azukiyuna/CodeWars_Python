{
 "cells": [
  {
   "cell_type": "markdown",
   "metadata": {},
   "source": [
    "#### [7 kyu] \n",
    "#### [Simple Fun #55: Cyclic String](https://www.codewars.com/kata/simple-fun-number-55-cyclic-string/train/python)"
   ]
  },
  {
   "cell_type": "markdown",
   "metadata": {},
   "source": [
    "[Instructions]\n",
    "\n",
    "You're given a substring s of some cyclic string.  \n",
    "What's the length of the smallest possible string that can be concatenated to itself many times to obtain this cyclic string?  \n",
    "\n",
    "[Example]\n",
    "Fors = \"cabca\", the output should be 3  \n",
    "\n",
    "\"cabca\" is a substring of a cycle string \"abcabcabcabc...\" that can be obtained by concatenating \"abc\" to itself.  \n",
    "Thus, the answer is 3.  \n",
    "\n",
    "[Input/Output]\n",
    "[input] string s  \n",
    "\n",
    "Constraints: 3 ≤ s.length ≤ 15.  \n",
    "\n",
    "[output] an integer"
   ]
  },
  {
   "cell_type": "code",
   "execution_count": 1,
   "metadata": {},
   "outputs": [],
   "source": [
    "def cyclic_string(s):\n",
    "    for i in range(len(s)):\n",
    "        sub_c = ''\n",
    "        if i == 0:  sub = s[0]\n",
    "        else:       sub = s[0:i+1]\n",
    "        \n",
    "        while len(sub_c)<len(s):  sub_c += sub\n",
    "\n",
    "        if (sub_c.find(s))== -1: continue\n",
    "        else: break\n",
    "    return len(sub)"
   ]
  },
  {
   "cell_type": "code",
   "execution_count": 2,
   "metadata": {},
   "outputs": [
    {
     "name": "stdout",
     "output_type": "stream",
     "text": [
      "3\n",
      "2\n",
      "1\n",
      "4\n",
      "5\n",
      "6\n",
      "6\n"
     ]
    }
   ],
   "source": [
    "# sample test\n",
    "print(cyclic_string(\"cabca\"))  # 3 cab\n",
    "print(cyclic_string(\"aba\")) # 2 ab\n",
    "print(cyclic_string(\"ccccccccccc\")) # 1 c\n",
    "print(cyclic_string(\"abaca\")) # 4 abac\n",
    "print(cyclic_string(\"baebe\"))\n",
    "print(cyclic_string(\"affdfe\"))\n",
    "print(cyclic_string(\"daadca\"))"
   ]
  }
 ],
 "metadata": {
  "kernelspec": {
   "display_name": "Python 3",
   "language": "python",
   "name": "python3"
  },
  "language_info": {
   "codemirror_mode": {
    "name": "ipython",
    "version": 3
   },
   "file_extension": ".py",
   "mimetype": "text/x-python",
   "name": "python",
   "nbconvert_exporter": "python",
   "pygments_lexer": "ipython3",
   "version": "3.7.0"
  }
 },
 "nbformat": 4,
 "nbformat_minor": 2
}
