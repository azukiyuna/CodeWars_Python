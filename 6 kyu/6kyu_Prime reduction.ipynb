{
 "cells": [
  {
   "cell_type": "markdown",
   "metadata": {},
   "source": [
    "#### [6 kyu] \n",
    "#### [Prime reduction](https://www.codewars.com/kata/59aa6567485a4d03ff0000ca)"
   ]
  },
  {
   "cell_type": "markdown",
   "metadata": {},
   "source": [
    "[Instructions]\n",
    "\n",
    "Consider the prime number 23.  \n",
    "If we sum the square of its digits we get: 2^2 + 3^2 = 13,  \n",
    "then for 13: 1^2 + 3^2 = 10,  \n",
    "and finally for 10: 1^2 + 0^2 = 1.  \n",
    "\n",
    "Similarly, if we start with prime number 7,  \n",
    "the sequence is: 7->49->97->130->10->1.  \n",
    "\n",
    "Given a range, how many primes within that range will eventually end up being 1?  \n",
    "\n",
    "The upperbound for the range is 50,000.  \n",
    "A range of (2,25) means that: 2 <= n < 25  .\n",
    "\n",
    "Good luck!  "
   ]
  },
  {
   "cell_type": "markdown",
   "metadata": {},
   "source": [
    "### !!!!This solution can pass on my side, but will get time out on the Kata website!!!!"
   ]
  },
  {
   "cell_type": "markdown",
   "metadata": {},
   "source": [
    "#### [Method 1]"
   ]
  },
  {
   "cell_type": "code",
   "execution_count": 1,
   "metadata": {},
   "outputs": [],
   "source": [
    "### Find prime in given range ###\n",
    "def is_prime(n):\n",
    "    d = 2\n",
    "    if n == 1: return False\n",
    "    else:\n",
    "        while(d < n):\n",
    "            if n % d ==0: return False # 'Not Prime'\n",
    "            else: d +=1\n",
    "    return True #'Is Prime'"
   ]
  },
  {
   "cell_type": "code",
   "execution_count": 2,
   "metadata": {},
   "outputs": [],
   "source": [
    "### Calculate sum the square of digits of prime ###\n",
    "def prime_cal(np):\n",
    "    i = s = 0\n",
    "    st = []\n",
    "    while(np > 0):\n",
    "        i = np % 10\n",
    "        st.append(i)\n",
    "        np = np //10\n",
    "    \n",
    "    for j in st:\n",
    "        s += j**2\n",
    "    return s"
   ]
  },
  {
   "cell_type": "code",
   "execution_count": 3,
   "metadata": {},
   "outputs": [],
   "source": [
    "### Check if calculation can converge to 1 ###\n",
    "def prime_cycle(num):\n",
    "    ct = 0\n",
    "    while(num != 1):\n",
    "        num = prime_cal(num)\n",
    "        ct +=1\n",
    "        if ct > 5:\n",
    "            return False\n",
    "    return True"
   ]
  },
  {
   "cell_type": "code",
   "execution_count": 4,
   "metadata": {},
   "outputs": [],
   "source": [
    "### Count primes meet the requirements ###\n",
    "def solve(a,b):\n",
    "    count = 0\n",
    "    for k in range(a,b+1):\n",
    "        if is_prime(k):\n",
    "            if prime_cycle(prime_cal(k)):\n",
    "                count +=1\n",
    "        else:\n",
    "            continue\n",
    "    return count"
   ]
  },
  {
   "cell_type": "code",
   "execution_count": 5,
   "metadata": {},
   "outputs": [
    {
     "name": "stdout",
     "output_type": "stream",
     "text": [
      "4\n",
      "28\n",
      "47\n",
      "65\n",
      "95\n"
     ]
    }
   ],
   "source": [
    "# sample test\n",
    "print(solve(1,25)) # 4 \n",
    "print(solve(100,1000)) # 28 \n",
    "print(solve(100,2000)) # 47 \n",
    "print(solve(100,3000)) # 65\n",
    "print(solve(100,4000)) # 95"
   ]
  },
  {
   "cell_type": "markdown",
   "metadata": {},
   "source": [
    "#### [Method 2]"
   ]
  },
  {
   "cell_type": "code",
   "execution_count": 6,
   "metadata": {},
   "outputs": [],
   "source": [
    "### Find prime in given range ###\n",
    "def is_prime(n):\n",
    "    d = 2\n",
    "    if n == 1: return False\n",
    "    else:\n",
    "        while(d < n):\n",
    "            if n % d ==0: return False # 'Not Prime'\n",
    "            else: d +=1\n",
    "    return True #'Is Prime'"
   ]
  },
  {
   "cell_type": "code",
   "execution_count": 7,
   "metadata": {},
   "outputs": [],
   "source": [
    "### Calculate sum the square of digits of prime ###\n",
    "def prime_cal(np):\n",
    "    i = 0\n",
    "    st = [int(i)**2 for i in str(np)]\n",
    "    return sum(st)"
   ]
  },
  {
   "cell_type": "code",
   "execution_count": 8,
   "metadata": {},
   "outputs": [],
   "source": [
    "### Check if calculation can converge to 1 ###\n",
    "def prime_cycle(num):\n",
    "    if num == 1: return True\n",
    "    elif num == 4: return False\n",
    "    else:\n",
    "        return prime_cycle(prime_cal(num))"
   ]
  },
  {
   "cell_type": "code",
   "execution_count": 9,
   "metadata": {},
   "outputs": [],
   "source": [
    "### Count primes meet the requirements ###\n",
    "def solve(a,b):\n",
    "    count = 0\n",
    "    for k in range(a,b+1):\n",
    "        if is_prime(k):\n",
    "            if prime_cycle(k): count +=1\n",
    "        else:\n",
    "            continue\n",
    "    return count"
   ]
  },
  {
   "cell_type": "code",
   "execution_count": 10,
   "metadata": {},
   "outputs": [
    {
     "name": "stdout",
     "output_type": "stream",
     "text": [
      "4\n",
      "28\n",
      "47\n",
      "65\n",
      "95\n"
     ]
    }
   ],
   "source": [
    "# sample test\n",
    "print(solve(1,25)) # 4 \n",
    "print(solve(100,1000)) # 28 \n",
    "print(solve(100,2000)) # 47 \n",
    "print(solve(100,3000)) # 65\n",
    "print(solve(100,4000)) # 95"
   ]
  }
 ],
 "metadata": {
  "kernelspec": {
   "display_name": "Python 3",
   "language": "python",
   "name": "python3"
  },
  "language_info": {
   "codemirror_mode": {
    "name": "ipython",
    "version": 3
   },
   "file_extension": ".py",
   "mimetype": "text/x-python",
   "name": "python",
   "nbconvert_exporter": "python",
   "pygments_lexer": "ipython3",
   "version": "3.7.0"
  }
 },
 "nbformat": 4,
 "nbformat_minor": 2
}
