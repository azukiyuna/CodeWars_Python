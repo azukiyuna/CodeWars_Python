{
 "cells": [
  {
   "cell_type": "markdown",
   "metadata": {},
   "source": [
    "#### [6 kyu] \n",
    "#### [Stop gninnipS My sdroW!](https://www.codewars.com/kata/stop-gninnips-my-sdrow/train/python)"
   ]
  },
  {
   "cell_type": "markdown",
   "metadata": {},
   "source": [
    "[Instructions]\n",
    "\n",
    "Write a function that takes in a string of one or more words, and returns the same string,  \n",
    "but with all five or more letter words reversed (Just like the name of this Kata).   \n",
    "Strings passed in will consist of only letters and spaces.  \n",
    "Spaces will be included only when more than one word is present.\n",
    "\n",
    "Examples:  \n",
    "spinWords( \"Hey fellow warriors\" ) => returns \"Hey wollef sroirraw\"  \n",
    "spinWords( \"This is a test\") => returns \"This is a test\"  \n",
    "spinWords( \"This is another test\" )=> returns \"This is rehtona test\"    "
   ]
  },
  {
   "cell_type": "code",
   "execution_count": 1,
   "metadata": {},
   "outputs": [],
   "source": [
    "def spin_words(sentence):\n",
    "    parts = sentence.split()\n",
    "    result = []\n",
    "    \n",
    "    for st in parts:\n",
    "        if len(st)< 5:\n",
    "            result.append(st)\n",
    "        elif len(st)>=5:\n",
    "            st_r = st[::-1]\n",
    "            result.append(st_r)\n",
    "    \n",
    "    result = \" \".join(result)\n",
    "    return result"
   ]
  },
  {
   "cell_type": "code",
   "execution_count": 2,
   "metadata": {},
   "outputs": [
    {
     "name": "stdout",
     "output_type": "stream",
     "text": [
      "emocleW\n",
      "Hey wollef sroirraw\n",
      "This is a test\n",
      "This is rehtona test\n"
     ]
    }
   ],
   "source": [
    "# sample test\n",
    "print(spin_words(\"Welcome\"))\n",
    "print(spin_words(\"Hey fellow warriors\"))\n",
    "print(spin_words(\"This is a test\"))\n",
    "print(spin_words(\"This is another test\"))"
   ]
  }
 ],
 "metadata": {
  "kernelspec": {
   "display_name": "Python 3",
   "language": "python",
   "name": "python3"
  },
  "language_info": {
   "codemirror_mode": {
    "name": "ipython",
    "version": 3
   },
   "file_extension": ".py",
   "mimetype": "text/x-python",
   "name": "python",
   "nbconvert_exporter": "python",
   "pygments_lexer": "ipython3",
   "version": "3.7.0"
  }
 },
 "nbformat": 4,
 "nbformat_minor": 2
}
