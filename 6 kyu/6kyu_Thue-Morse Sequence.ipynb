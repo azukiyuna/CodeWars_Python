{
 "cells": [
  {
   "cell_type": "markdown",
   "metadata": {},
   "source": [
    "#### [6 kyu] \n",
    "#### [Thue-Morse Sequence](https://www.codewars.com/kata/591aa1752afcb02fa300002a)"
   ]
  },
  {
   "cell_type": "markdown",
   "metadata": {},
   "source": [
    "[Instructions]\n",
    "\n",
    "Given a positive integer n, return first n dgits of Thue-Morse sequence, as a string (see examples).\n",
    "\n",
    "Thue-Morse sequence is a binary sequence with 0 as the first element.  \n",
    "The rest of the sequece is obtained by adding the Boolean (binary) complement of a group obtained so far.  \n",
    "\n",
    "For example:\n",
    "\n",
    "0\n",
    "01\n",
    "0110\n",
    "01101001\n",
    "and so on... "
   ]
  },
  {
   "cell_type": "markdown",
   "metadata": {},
   "source": [
    "Ex.:\n",
    "thue_morse(1);  #\"0\"\n",
    "thue_morse(2);  #\"01\"\n",
    "thue_morse(5);  #\"01101\"\n",
    "thue_morse(10): #\"0110100110\"  \n",
    "\n",
    "You don't need to test if n is valid - it will always be a positive integer.\n",
    "n will be between 1 and 10000"
   ]
  },
  {
   "cell_type": "markdown",
   "metadata": {},
   "source": [
    "###### [Thue-Morse on Wikipedia](https://en.wikipedia.org/wiki/Thue%E2%80%93Morse_sequence)\n",
    "###### [Another kata on Thue-Morse](https://www.codewars.com/kata/simple-fun-number-106-is-thue-morse)\n",
    "Detail & Solution->  \n",
    "[7kyu_Simple Fun #106_Is Thue Morse](https://github.com/azukiyuna/CodeWars_Python/blob/master/7%20kyu/7kyu_Simple%20Fun%20%23106_Is%20Thue%20Morse.ipynb)"
   ]
  },
  {
   "cell_type": "code",
   "execution_count": 1,
   "metadata": {},
   "outputs": [],
   "source": [
    "def thue_morse(n):\n",
    "    t = ''\n",
    "    for i in range(n):\n",
    "        t += str(bin(i).count('1') % 2)\n",
    "    return t"
   ]
  },
  {
   "cell_type": "code",
   "execution_count": 2,
   "metadata": {},
   "outputs": [
    {
     "name": "stdout",
     "output_type": "stream",
     "text": [
      "0\n",
      "01\n",
      "01101\n",
      "0110100110\n",
      "0110100110010110100101100110100110010110011010010110100110010110100101100110100101101001100101100110\n"
     ]
    }
   ],
   "source": [
    "# sample test\n",
    "print(thue_morse(1))  # \"0\"\n",
    "print(thue_morse(2))  # \"01\"\n",
    "print(thue_morse(5))  # \"01101\"\n",
    "print(thue_morse(10)) # \"0110100110\"\n",
    "print(thue_morse(100))# \"0110100110010110100101100110100110010110011010010110100110010110100101100110100101101001100101100110\""
   ]
  },
  {
   "cell_type": "code",
   "execution_count": 3,
   "metadata": {},
   "outputs": [
    {
     "name": "stdout",
     "output_type": "stream",
     "text": [
      "[0, 1, 1, 0, 1]\n",
      "[0, 1, 1, 0, 1]\n",
      "01101\n"
     ]
    }
   ],
   "source": [
    "def thue_morse_digits(digits):\n",
    "    return  [bin(n).count('1') % 2 for n in range(digits)]\n",
    "\n",
    "\n",
    "\n",
    "def thueMorse(number):\n",
    "    T = []\n",
    "    for n in range(number):\n",
    "        T.append(bin(n).count('1') % 2)\n",
    "    return  T\n",
    "\n",
    "\n",
    "def thue_morse(n):\n",
    "    t = ''\n",
    "    for i in range(n):\n",
    "        t += str(bin(i).count('1') % 2)\n",
    "    return t\n",
    "\n",
    "\n",
    "\n",
    "print(thue_morse_digits(5))\n",
    "print(thueMorse(5))\n",
    "print(thue_morse(5))"
   ]
  }
 ],
 "metadata": {
  "kernelspec": {
   "display_name": "Python 3",
   "language": "python",
   "name": "python3"
  },
  "language_info": {
   "codemirror_mode": {
    "name": "ipython",
    "version": 3
   },
   "file_extension": ".py",
   "mimetype": "text/x-python",
   "name": "python",
   "nbconvert_exporter": "python",
   "pygments_lexer": "ipython3",
   "version": "3.7.0"
  }
 },
 "nbformat": 4,
 "nbformat_minor": 2
}
