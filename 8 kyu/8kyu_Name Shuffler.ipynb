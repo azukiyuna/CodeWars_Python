{
 "cells": [
  {
   "cell_type": "markdown",
   "metadata": {},
   "source": [
    "#### [8 kyu] \n",
    "#### [Kata-Name Shuffler](https://www.codewars.com/kata/name-shuffler/train/python)"
   ]
  },
  {
   "cell_type": "markdown",
   "metadata": {},
   "source": [
    "[Instructions]\n",
    "\n",
    "Write a function that returns a string in which firstname is swapped with last name.\n",
    "\n",
    "name_shuffler('john McClane'); => \"McClane john\""
   ]
  },
  {
   "cell_type": "code",
   "execution_count": 1,
   "metadata": {},
   "outputs": [],
   "source": [
    "def name_shuffler(str_):\n",
    "    return (\" \".join(str_.split()[::-1]))"
   ]
  },
  {
   "cell_type": "code",
   "execution_count": 2,
   "metadata": {},
   "outputs": [
    {
     "name": "stdout",
     "output_type": "stream",
     "text": [
      "McClane john\n",
      "jeggins Mary\n",
      "jerry tom\n"
     ]
    }
   ],
   "source": [
    "# sample test\n",
    "print(name_shuffler('john McClane'))\n",
    "print(name_shuffler('Mary jeggins'))\n",
    "print(name_shuffler('tom jerry'))"
   ]
  }
 ],
 "metadata": {
  "kernelspec": {
   "display_name": "Python 3",
   "language": "python",
   "name": "python3"
  },
  "language_info": {
   "codemirror_mode": {
    "name": "ipython",
    "version": 3
   },
   "file_extension": ".py",
   "mimetype": "text/x-python",
   "name": "python",
   "nbconvert_exporter": "python",
   "pygments_lexer": "ipython3",
   "version": "3.7.4"
  }
 },
 "nbformat": 4,
 "nbformat_minor": 2
}
