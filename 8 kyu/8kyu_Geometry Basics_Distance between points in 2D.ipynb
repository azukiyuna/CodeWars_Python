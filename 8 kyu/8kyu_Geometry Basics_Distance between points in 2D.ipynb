{
 "cells": [
  {
   "cell_type": "markdown",
   "metadata": {},
   "source": [
    "#### [8 kyu] \n",
    "#### [Geometry Basics: Distance between points in 2D](https://www.codewars.com/kata/geometry-basics-distance-between-points-in-2d/train/python)"
   ]
  },
  {
   "cell_type": "markdown",
   "metadata": {},
   "source": [
    "[Instructions]\n",
    "\n",
    "This series of katas will introduce you to basics of doing geometry with computers.  \n",
    "\n",
    "Point objects have x and y attributes (X and Y in C#) attributes.  \n",
    "\n",
    "Write a function calculating distance between Point a and Point b.  \n",
    "\n",
    "Tests round answers to 6 decimal places.  "
   ]
  },
  {
   "cell_type": "code",
   "execution_count": 1,
   "metadata": {},
   "outputs": [],
   "source": [
    "class Point:\n",
    "    def  __init__(self,px,py):\n",
    "        self.x = px\n",
    "        self.y = py\n",
    "\n",
    "def distance_between_points(a, b):\n",
    "    return ((a.x-b.x)**2 + (a.y-b.y)**2)**0.5"
   ]
  },
  {
   "cell_type": "code",
   "execution_count": 2,
   "metadata": {},
   "outputs": [
    {
     "name": "stdout",
     "output_type": "stream",
     "text": [
      "0.0\n",
      "5.0\n",
      "10.728001\n"
     ]
    }
   ],
   "source": [
    "# sample test\n",
    "print(distance_between_points(Point(3, 3), Point(3, 3))) # 0\n",
    "print(distance_between_points(Point(1, 6), Point(4, 2))) # 5\n",
    "print(round(distance_between_points(Point(-10.2, 12.5), Point(0.3, 14.7)),6))\n",
    "# 10.728001"
   ]
  }
 ],
 "metadata": {
  "kernelspec": {
   "display_name": "Python 3",
   "language": "python",
   "name": "python3"
  },
  "language_info": {
   "codemirror_mode": {
    "name": "ipython",
    "version": 3
   },
   "file_extension": ".py",
   "mimetype": "text/x-python",
   "name": "python",
   "nbconvert_exporter": "python",
   "pygments_lexer": "ipython3",
   "version": "3.7.0"
  }
 },
 "nbformat": 4,
 "nbformat_minor": 2
}
