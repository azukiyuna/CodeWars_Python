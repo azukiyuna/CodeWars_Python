{
 "cells": [
  {
   "cell_type": "markdown",
   "metadata": {},
   "source": [
    "#### [8 kyu] \n",
    "#### [Counting sheep](https://www.codewars.com/kata/counting-sheep-dot-dot-dot/train/python)"
   ]
  },
  {
   "cell_type": "markdown",
   "metadata": {},
   "source": [
    "[Instructions]\n",
    "\n",
    "Consider an array of sheep where some sheep may be missing from their place.  \n",
    "We need a function that counts the number of sheep present in the array(true means present).  \n",
    "\n",
    "For example,\n",
    "\n",
    "[True,  True,  True,  False,  \n",
    "  True,  True,  True,  True ,  \n",
    "  True,  False, True,  False,  \n",
    "  True,  False, False, True ,  \n",
    "  True,  True,  True,  True ,  \n",
    "  False, False, True,  True]\n",
    "\n",
    "The correct answer would be 17.  \n",
    "\n",
    "Hint: Don't forget to check for bad values like null/undefined "
   ]
  },
  {
   "cell_type": "code",
   "execution_count": 1,
   "metadata": {},
   "outputs": [],
   "source": [
    "def count_sheeps(arrayOfSheeps):\n",
    "    count = 0\n",
    "    for i in arrayOfSheeps:\n",
    "        if i == True:\n",
    "            count +=1\n",
    "    return (count)"
   ]
  },
  {
   "cell_type": "code",
   "execution_count": 2,
   "metadata": {},
   "outputs": [
    {
     "name": "stdout",
     "output_type": "stream",
     "text": [
      "17\n"
     ]
    }
   ],
   "source": [
    "# sample test\n",
    "array1 = [True,  True,  True,  False,\n",
    "          True,  True,  True,  True ,\n",
    "          True,  False, True,  False,\n",
    "          True,  False, False, True ,\n",
    "          True,  True,  True,  True ,\n",
    "          False, False, True,  True ];\n",
    "print(count_sheeps(array1))"
   ]
  }
 ],
 "metadata": {
  "kernelspec": {
   "display_name": "Python 3",
   "language": "python",
   "name": "python3"
  },
  "language_info": {
   "codemirror_mode": {
    "name": "ipython",
    "version": 3
   },
   "file_extension": ".py",
   "mimetype": "text/x-python",
   "name": "python",
   "nbconvert_exporter": "python",
   "pygments_lexer": "ipython3",
   "version": "3.7.4"
  }
 },
 "nbformat": 4,
 "nbformat_minor": 2
}
