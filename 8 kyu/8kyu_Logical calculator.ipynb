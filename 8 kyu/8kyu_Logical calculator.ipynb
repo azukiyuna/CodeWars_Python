{
 "cells": [
  {
   "cell_type": "markdown",
   "metadata": {},
   "source": [
    "#### [8 kyu] \n",
    "#### [Logical calculator](https://www.codewars.com/kata/logical-calculator/train/python)"
   ]
  },
  {
   "cell_type": "markdown",
   "metadata": {},
   "source": [
    "[Instructions]\n",
    "\n",
    "Your task is to calculate logical value of boolean array.  \n",
    "Test arrays are one-dimensional and their size is in the range 1-50.  \n",
    "\n",
    "Links referring to logical operations: AND, OR and XOR.  \n",
    "\n",
    "You should begin at the first value,  \n",
    "and repeatedly apply the logical operation across the remaining elements in the array sequentially.  \n",
    "\n",
    "Input:  \n",
    "boolean array, string with operator' s name: 'AND', 'OR', 'XOR'.  \n",
    "\n",
    "Output:  \n",
    "calculated boolean  "
   ]
  },
  {
   "cell_type": "markdown",
   "metadata": {},
   "source": [
    "##### [Method-1]"
   ]
  },
  {
   "cell_type": "code",
   "execution_count": 1,
   "metadata": {},
   "outputs": [],
   "source": [
    "def logical_calc(array, op):\n",
    "    result = array[0]\n",
    "    if op == \"AND\":\n",
    "        for i in array[1:]:\n",
    "            result &= i\n",
    "    elif op == \"OR\":\n",
    "        for i in array[1:]:\n",
    "            result |= i\n",
    "    elif op == \"XOR\":\n",
    "        for i in array[1:]:\n",
    "            result ^= i\n",
    "    return result"
   ]
  },
  {
   "cell_type": "code",
   "execution_count": 2,
   "metadata": {},
   "outputs": [
    {
     "name": "stdout",
     "output_type": "stream",
     "text": [
      "False\n",
      "True\n",
      "True\n",
      "False\n",
      "True\n",
      "False\n"
     ]
    }
   ],
   "source": [
    "# sample test\n",
    "print(logical_calc([True, False], \"AND\"))\n",
    "print(logical_calc([True, False], \"OR\"))\n",
    "print(logical_calc([True, False], \"XOR\"))\n",
    "\n",
    "print(logical_calc([True, True, False], \"AND\"))\n",
    "print(logical_calc([True, True, False], \"OR\"))\n",
    "print(logical_calc([True, True, False], \"XOR\"))"
   ]
  },
  {
   "cell_type": "markdown",
   "metadata": {},
   "source": [
    "##### [Method-2]"
   ]
  },
  {
   "cell_type": "code",
   "execution_count": 3,
   "metadata": {},
   "outputs": [],
   "source": [
    "def logical_calc(array, op):\n",
    "    result = array[0]\n",
    "    for i in array[1:]:\n",
    "        if op == \"AND\":   result &= i\n",
    "        elif op == \"OR\":  result |= i\n",
    "        elif op == \"XOR\": result ^= i\n",
    "    return result"
   ]
  },
  {
   "cell_type": "code",
   "execution_count": 4,
   "metadata": {},
   "outputs": [
    {
     "name": "stdout",
     "output_type": "stream",
     "text": [
      "False\n",
      "True\n",
      "True\n",
      "False\n",
      "True\n",
      "False\n"
     ]
    }
   ],
   "source": [
    "# sample test\n",
    "print(logical_calc([True, False], \"AND\"))\n",
    "print(logical_calc([True, False], \"OR\"))\n",
    "print(logical_calc([True, False], \"XOR\"))\n",
    "\n",
    "print(logical_calc([True, True, False], \"AND\"))\n",
    "print(logical_calc([True, True, False], \"OR\"))\n",
    "print(logical_calc([True, True, False], \"XOR\"))"
   ]
  }
 ],
 "metadata": {
  "kernelspec": {
   "display_name": "Python 3",
   "language": "python",
   "name": "python3"
  },
  "language_info": {
   "codemirror_mode": {
    "name": "ipython",
    "version": 3
   },
   "file_extension": ".py",
   "mimetype": "text/x-python",
   "name": "python",
   "nbconvert_exporter": "python",
   "pygments_lexer": "ipython3",
   "version": "3.7.4"
  }
 },
 "nbformat": 4,
 "nbformat_minor": 2
}
