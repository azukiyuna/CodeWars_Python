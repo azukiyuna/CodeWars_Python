{
 "cells": [
  {
   "cell_type": "markdown",
   "metadata": {},
   "source": [
    "#### [8 kyu] \n",
    "#### [Is your period late?](https://www.codewars.com/kata/is-your-period-late/train/python)"
   ]
  },
  {
   "cell_type": "markdown",
   "metadata": {},
   "source": [
    "[Instructions]\n",
    "\n",
    "'''\n",
    "In this kata, we will make a function to test whether a period is late.  \n",
    "\n",
    "\n",
    "Our function will take three parameters:  \n",
    "\n",
    "last - The Date object with the date of the last period  \n",
    "\n",
    "today - The Date object with the date of the check  \n",
    "\n",
    "cycleLength - Integer representing the length of the cycle in days  \n",
    "\n",
    "\n",
    "If the today is later from last than the cycleLength, the function should return true.  \n",
    "We consider it to be late if the number of passed days is larger than the cycleLength. Otherwise return false."
   ]
  },
  {
   "cell_type": "code",
   "execution_count": 1,
   "metadata": {},
   "outputs": [],
   "source": [
    "from datetime import date\n",
    "\n",
    "def period_is_late(last,today,cycle_length):\n",
    "    period = today - last\n",
    "    # About Date Object:\n",
    "    # timedelta = date1 - date2\n",
    "    # format of timedelta: (xx days, x:xx:xx)\n",
    "    \n",
    "    if period.days > cycle_length:\n",
    "        result = True\n",
    "    else:\n",
    "        result = False\n",
    "    return result"
   ]
  },
  {
   "cell_type": "code",
   "execution_count": 2,
   "metadata": {},
   "outputs": [
    {
     "name": "stdout",
     "output_type": "stream",
     "text": [
      "False\n",
      "True\n",
      "False\n",
      "False\n",
      "False\n",
      "True\n",
      "True\n",
      "False\n",
      "False\n",
      "True\n"
     ]
    }
   ],
   "source": [
    "# sample test\n",
    "print(period_is_late(date(2016, 6, 13), date(2016, 7, 16), 35))\n",
    "print(period_is_late(date(2016, 6, 13), date(2016, 7, 16), 28))\n",
    "print(period_is_late(date(2016, 6, 13), date(2016, 7, 16), 35))\n",
    "print(period_is_late(date(2016, 6, 13), date(2016, 6, 29), 28))\n",
    "print(period_is_late(date(2016, 7, 12), date(2016, 8, 9), 28))\n",
    "print(period_is_late(date(2016, 7, 12), date(2016, 8, 10), 28))\n",
    "print(period_is_late(date(2016, 7, 1), date(2016, 8, 1), 30))\n",
    "print(period_is_late(date(2016, 6, 1), date(2016, 6, 30), 30))\n",
    "print(period_is_late(date(2016, 1, 1), date(2016, 1, 31), 30))\n",
    "print(period_is_late(date(2016, 1, 1), date(2016, 2, 1), 30))"
   ]
  }
 ],
 "metadata": {
  "kernelspec": {
   "display_name": "Python 3",
   "language": "python",
   "name": "python3"
  },
  "language_info": {
   "codemirror_mode": {
    "name": "ipython",
    "version": 3
   },
   "file_extension": ".py",
   "mimetype": "text/x-python",
   "name": "python",
   "nbconvert_exporter": "python",
   "pygments_lexer": "ipython3",
   "version": "3.7.4"
  }
 },
 "nbformat": 4,
 "nbformat_minor": 2
}
