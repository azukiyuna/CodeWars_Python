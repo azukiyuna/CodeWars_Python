{
 "cells": [
  {
   "cell_type": "markdown",
   "metadata": {},
   "source": [
    "#### [8 kyu] \n",
    "#### [Get Nth Even Number](https://www.codewars.com/kata/get-nth-even-number/train/python)"
   ]
  },
  {
   "cell_type": "markdown",
   "metadata": {},
   "source": [
    "[Instructions]\n",
    "\n",
    "Return the Nth Even Number\n",
    "\n",
    "nthEven(1) //=> 0, the first even number is 0\n",
    "nthEven(3) //=> 4, the 3rd even number is 4 (0, 2, 4)\n",
    "\n",
    "nthEven(100) //=> 198\n",
    "nthEven(1298734) //=> 2597466\n",
    "\n",
    "The input will not be 0."
   ]
  },
  {
   "cell_type": "code",
   "execution_count": 1,
   "metadata": {},
   "outputs": [],
   "source": [
    "def nth_even(n):\n",
    "    even = 2*(n-1)\n",
    "    return even"
   ]
  },
  {
   "cell_type": "code",
   "execution_count": 2,
   "metadata": {},
   "outputs": [
    {
     "name": "stdout",
     "output_type": "stream",
     "text": [
      "0\n",
      "2\n",
      "4\n",
      "198\n",
      "2597466\n"
     ]
    }
   ],
   "source": [
    "# sample test\n",
    "print(nth_even(1))\n",
    "print(nth_even(2))\n",
    "print(nth_even(3))\n",
    "print(nth_even(100))\n",
    "print(nth_even(1298734))"
   ]
  }
 ],
 "metadata": {
  "kernelspec": {
   "display_name": "Python 3",
   "language": "python",
   "name": "python3"
  },
  "language_info": {
   "codemirror_mode": {
    "name": "ipython",
    "version": 3
   },
   "file_extension": ".py",
   "mimetype": "text/x-python",
   "name": "python",
   "nbconvert_exporter": "python",
   "pygments_lexer": "ipython3",
   "version": "3.7.4"
  }
 },
 "nbformat": 4,
 "nbformat_minor": 2
}
