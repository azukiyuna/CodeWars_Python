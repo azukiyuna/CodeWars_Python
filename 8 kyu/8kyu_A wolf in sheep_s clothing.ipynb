{
 "cells": [
  {
   "cell_type": "markdown",
   "metadata": {},
   "source": [
    "#### [8 kyu] \n",
    "#### [A wolf in sheep's clothing](https://www.codewars.com/kata/a-wolf-in-sheeps-clothing/train/python)"
   ]
  },
  {
   "cell_type": "markdown",
   "metadata": {},
   "source": [
    "[Instructions]\n",
    "\n",
    "Wolves have been reintroduced to Great Britain.  \n",
    "You are a sheep farmer, and are now plagued by wolves which pretend to be sheep.  \n",
    "Fortunately, you are good at spotting them.  \n",
    "Warn the sheep in front of the wolf that it is about to be eaten.  \n",
    "Remember that you are standing at the front of the queue which is at the end of the array:  \n",
    "\n",
    "    [sheep, sheep, sheep, sheep, sheep, wolf, sheep, sheep]  (YOU ARE HERE AT THE FRONT OF THE QUEUE) \n",
    "\n",
    "       7      6      5      4      3            2      1  \n",
    "\n",
    "\n",
    "If the wolf is the closest animal to you,  \n",
    "return \"Pls go away and stop eating my sheep\".  \n",
    "\n",
    "Otherwise, return \"Oi! Sheep number N! You are about to be eaten by a wolf!\"  \n",
    "where N is the sheep's position in the queue.  \n",
    "\n",
    "Note: there will always be exactly one wolf in the array.  "
   ]
  },
  {
   "cell_type": "code",
   "execution_count": 1,
   "metadata": {},
   "outputs": [],
   "source": [
    "def warn_the_sheep(queue):\n",
    "    queue.reverse()\n",
    "    if queue[0] == \"wolf\":\n",
    "        result = 'Pls go away and stop eating my sheep'\n",
    "    else:\n",
    "        for i in range(len(queue)):\n",
    "            if queue[i] == \"wolf\":\n",
    "                loc = i\n",
    "                break\n",
    "        result = 'Oi! Sheep number %d! You are about to be eaten by a wolf!' %(loc)\n",
    "    return result"
   ]
  },
  {
   "cell_type": "code",
   "execution_count": 2,
   "metadata": {},
   "outputs": [
    {
     "name": "stdout",
     "output_type": "stream",
     "text": [
      "Oi! Sheep number 2! You are about to be eaten by a wolf!\n",
      "Oi! Sheep number 5! You are about to be eaten by a wolf!\n",
      "Oi! Sheep number 6! You are about to be eaten by a wolf!\n",
      "Oi! Sheep number 1! You are about to be eaten by a wolf!\n",
      "Pls go away and stop eating my sheep\n"
     ]
    }
   ],
   "source": [
    "# sample test\n",
    "print(warn_the_sheep(['sheep', 'sheep', 'sheep', 'sheep', 'sheep', 'wolf', 'sheep', 'sheep']))\n",
    "print(warn_the_sheep(['sheep', 'wolf', 'sheep', 'sheep', 'sheep', 'sheep', 'sheep']))\n",
    "print(warn_the_sheep(['wolf', 'sheep', 'sheep', 'sheep', 'sheep', 'sheep', 'sheep']))\n",
    "print(warn_the_sheep(['sheep', 'wolf', 'sheep']))\n",
    "print(warn_the_sheep(['sheep', 'sheep', 'wolf']))"
   ]
  }
 ],
 "metadata": {
  "kernelspec": {
   "display_name": "Python 3",
   "language": "python",
   "name": "python3"
  },
  "language_info": {
   "codemirror_mode": {
    "name": "ipython",
    "version": 3
   },
   "file_extension": ".py",
   "mimetype": "text/x-python",
   "name": "python",
   "nbconvert_exporter": "python",
   "pygments_lexer": "ipython3",
   "version": "3.7.4"
  }
 },
 "nbformat": 4,
 "nbformat_minor": 2
}
