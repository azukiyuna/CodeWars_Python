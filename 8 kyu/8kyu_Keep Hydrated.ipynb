{
 "cells": [
  {
   "cell_type": "markdown",
   "metadata": {},
   "source": [
    "#### [8 kyu] \n",
    "#### [Keep Hydrated!](https://www.codewars.com/kata/keep-hydrated-1/train/python)"
   ]
  },
  {
   "cell_type": "markdown",
   "metadata": {},
   "source": [
    "[Instructions]\n",
    "\n",
    "Nathan loves cycling.  \n",
    "\n",
    "Because Nathan knows it is important to stay hydrated,  \n",
    "he drinks 0.5 litres of water per hour of cycling.  \n",
    "\n",
    "You get given the time in hours  \n",
    "and you need to return the number of litres Nathan will drink,  \n",
    "rounded to the smallest value.  \n",
    "\n",
    "For example:\n",
    "\n",
    "time = 3 ----> litres = 1\n",
    "\n",
    "time = 6.7---> litres = 3\n",
    "\n",
    "time = 11.8--> litres = 5"
   ]
  },
  {
   "cell_type": "code",
   "execution_count": 1,
   "metadata": {},
   "outputs": [],
   "source": [
    "def litres(time):\n",
    "    result = int(time * 0.5)\n",
    "    return result"
   ]
  },
  {
   "cell_type": "code",
   "execution_count": 2,
   "metadata": {},
   "outputs": [
    {
     "name": "stdout",
     "output_type": "stream",
     "text": [
      "1\n",
      "0\n",
      "6\n",
      "0\n",
      "5\n",
      "893\n",
      "0\n"
     ]
    }
   ],
   "source": [
    "# sample test\n",
    "print(litres(2))\n",
    "print(litres(1.4))\n",
    "print(litres(12.3))\n",
    "print(litres(0.82))\n",
    "print(litres(11.8))\n",
    "print(litres(1787))\n",
    "print(litres(0))"
   ]
  }
 ],
 "metadata": {
  "kernelspec": {
   "display_name": "Python 3",
   "language": "python",
   "name": "python3"
  },
  "language_info": {
   "codemirror_mode": {
    "name": "ipython",
    "version": 3
   },
   "file_extension": ".py",
   "mimetype": "text/x-python",
   "name": "python",
   "nbconvert_exporter": "python",
   "pygments_lexer": "ipython3",
   "version": "3.7.4"
  }
 },
 "nbformat": 4,
 "nbformat_minor": 2
}
