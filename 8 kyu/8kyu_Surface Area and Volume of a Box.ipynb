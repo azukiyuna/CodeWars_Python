{
 "cells": [
  {
   "cell_type": "markdown",
   "metadata": {},
   "source": [
    "#### [8 kyu] \n",
    "#### [Surface Area and Volume of a Box](https://www.codewars.com/kata/surface-area-and-volume-of-a-box/train/python)"
   ]
  },
  {
   "cell_type": "markdown",
   "metadata": {},
   "source": [
    "[Instructions]\n",
    "\n",
    "Write a function that returns the total surface area and volume of a box as an array: [area, volume]"
   ]
  },
  {
   "cell_type": "code",
   "execution_count": 1,
   "metadata": {},
   "outputs": [],
   "source": [
    "def get_size(w,h,d):\n",
    "    area = 2 * (w * h + w * d + h * d)\n",
    "    volume = w * h * d\n",
    "    return [area,volume]"
   ]
  },
  {
   "cell_type": "code",
   "execution_count": 2,
   "metadata": {},
   "outputs": [
    {
     "name": "stdout",
     "output_type": "stream",
     "text": [
      "[88, 48]\n",
      "[6, 1]\n",
      "[10, 2]\n",
      "[16, 4]\n",
      "[600, 1000]\n"
     ]
    }
   ],
   "source": [
    "# sample test\n",
    "print(get_size(4, 2, 6))\n",
    "print(get_size(1, 1, 1))\n",
    "print(get_size(1, 2, 1))\n",
    "print(get_size(1, 2, 2))\n",
    "print(get_size(10, 10, 10))"
   ]
  }
 ],
 "metadata": {
  "kernelspec": {
   "display_name": "Python 3",
   "language": "python",
   "name": "python3"
  },
  "language_info": {
   "codemirror_mode": {
    "name": "ipython",
    "version": 3
   },
   "file_extension": ".py",
   "mimetype": "text/x-python",
   "name": "python",
   "nbconvert_exporter": "python",
   "pygments_lexer": "ipython3",
   "version": "3.7.4"
  }
 },
 "nbformat": 4,
 "nbformat_minor": 2
}
