{
 "cells": [
  {
   "cell_type": "markdown",
   "metadata": {},
   "source": [
    "#### [8 kyu] \n",
    "#### [101 Dalmatians - squash the bugs, not the dogs!](https://www.codewars.com/kata/56f6919a6b88de18ff000b36)"
   ]
  },
  {
   "cell_type": "markdown",
   "metadata": {},
   "source": [
    "[Instructions]\n",
    "\n",
    "Your friend has been out shopping for puppies (what a time to be alive!)...  \n",
    "He arrives back with multiple dogs, and you simply do not know how to respond!  \n",
    "\n",
    "By repairing the function provided,  \n",
    "you will find out exactly how you should respond,  \n",
    "depending on the number of dogs he has.  \n",
    "\n",
    "The number of dogs will always be a number and there will always be at least 1 dog."
   ]
  },
  {
   "cell_type": "code",
   "execution_count": 1,
   "metadata": {},
   "outputs": [],
   "source": [
    "def how_many_dalmatians(number):\n",
    "    dogs = [\"Hardly any\", \"More than a handful!\", \"Woah that's a lot of dogs!\", \"101 DALMATIONS!!!\"];\n",
    "    if number <= 10:\n",
    "        respond = dogs[0]\n",
    "    elif number <= 50:\n",
    "        respond = dogs[1]\n",
    "    elif number == 101:\n",
    "        respond = dogs[3]\n",
    "    else:\n",
    "        respond = dogs[2]\n",
    "    return respond"
   ]
  },
  {
   "cell_type": "code",
   "execution_count": 2,
   "metadata": {},
   "outputs": [
    {
     "name": "stdout",
     "output_type": "stream",
     "text": [
      "More than a handful!\n",
      "Hardly any\n",
      "More than a handful!\n",
      "Woah that's a lot of dogs!\n",
      "Woah that's a lot of dogs!\n",
      "More than a handful!\n",
      "Hardly any\n",
      "101 DALMATIONS!!!\n"
     ]
    }
   ],
   "source": [
    "# sample test\n",
    "print(how_many_dalmatians(26))\n",
    "print(how_many_dalmatians(8))\n",
    "print(how_many_dalmatians(14))\n",
    "print(how_many_dalmatians(80))\n",
    "print(how_many_dalmatians(100))\n",
    "print(how_many_dalmatians(50))\n",
    "print(how_many_dalmatians(10))\n",
    "print(how_many_dalmatians(101))"
   ]
  }
 ],
 "metadata": {
  "kernelspec": {
   "display_name": "Python 3",
   "language": "python",
   "name": "python3"
  },
  "language_info": {
   "codemirror_mode": {
    "name": "ipython",
    "version": 3
   },
   "file_extension": ".py",
   "mimetype": "text/x-python",
   "name": "python",
   "nbconvert_exporter": "python",
   "pygments_lexer": "ipython3",
   "version": "3.7.4"
  }
 },
 "nbformat": 4,
 "nbformat_minor": 2
}
